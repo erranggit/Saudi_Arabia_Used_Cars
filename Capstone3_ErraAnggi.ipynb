{
 "cells": [
  {
   "cell_type": "markdown",
   "metadata": {},
   "source": [
    "![syarah](./Syarah_Logo.png)"
   ]
  },
  {
   "cell_type": "markdown",
   "metadata": {},
   "source": [
    "# **Syarah.com**"
   ]
  },
  {
   "cell_type": "markdown",
   "metadata": {},
   "source": [
    "**Data Source : Saudi Arabia Used Cars**\n",
    "### **Contents**\n",
    "\n",
    "1. Business Problem Understanding\n",
    "2. Data Understanding\n",
    "3. Data Preprocessing\n",
    "4. Modeling\n",
    "5. Conclusion\n",
    "6. Recommendation\n",
    "\n",
    "****"
   ]
  },
  {
   "cell_type": "markdown",
   "metadata": {},
   "source": [
    "# Saudi Arabia Used Cars"
   ]
  },
  {
   "cell_type": "markdown",
   "metadata": {},
   "source": [
    "### **Business Problem Understanding**"
   ]
  },
  {
   "cell_type": "markdown",
   "metadata": {},
   "source": [
    "![marketsize](./marketsize.jpg)"
   ]
  },
  {
   "cell_type": "markdown",
   "metadata": {},
   "source": [
    "#### **Context**\n",
    "\n",
    "Saudi Arabia Used Car Market was valued at USD 4.91 billion in 2021 and is expected to surpass a net valuation of USD 8.69 billion by 2027 end, registering a solid CAGR (Compound Annual Growth Rate) growth of 7.36% over the forecast period.\n",
    "\n",
    "The COVID-19 pandemic had a moderate impact on the market as initial lockdowns in 2020 resulted in a slowdown in demand, however with ease in restrictions in 2021 consumers were encouraged to prefer used cars over new cars in wake of the pandemic coupled with fewer vehicle production due to supply chain disruptions and shortage of some auto components.\n",
    "\n",
    "Syarah.com is one of a platform for buying and selling used cars in Saudi Arabia. This website allows users to search, compare, and purchase used cars with a wide range of brands, models, and prices. It is similar to other used car buying and selling platforms available in various countries.\n",
    "\n",
    "On Syarah.com, you can find comprehensive information about the used cars for sale, including pictures, descriptions, prices, and contact information for the sellers. It is a valuable resource for individuals looking for used cars in Saudi Arabia who want to compare various options before making a purchase decision."
   ]
  },
  {
   "cell_type": "markdown",
   "metadata": {},
   "source": [
    "#### **Problem Statement**\n",
    "\n",
    "Purchasing and selling used cars can be quite challenging, especially for those with limited knowledge about the automotive industry. Often, they need to find a suitable and fair price for the car they want to sell or buy. Considering this, a platform like 'Syarah.com' that can provide accurate price estimates would be helpful. These estimates can serve as valuable guidance for car owners looking to sell their vehicles, making it easier for them to determine a competitive price. On the other hand, buyers will also feel more confident when evaluating a fair price for the car they desire.\n",
    "\n",
    "Although this Syarah.com provides price estimates, it still allows sellers the flexibility to set their prices according to their personal policies. Some sellers may choose to sell at a higher price, while others may want to offer a more competitive price for a quick sale. Thus, Syarah.com will help create transparency in the used car market, making it more accessible and assisting all parties, both sellers and buyers, in making better decisions."
   ]
  },
  {
   "cell_type": "markdown",
   "metadata": {},
   "source": [
    "#### **Goals**\n",
    "\n",
    "Based on the issue, Syarah.com requires a program to assist them in predicting prices so that sellers can offer the right price. Price variations can be provided based on features, distance, brand, origin, gear type, seller's region, and of course, a price that suits them.\n",
    "\n",
    "With this program, Syarah.com can help provide sellers and buyers with suitable prices, thereby increasing the number of transactions that generate profits for Syarah.com from both sellers and buyers, known as booking charges"
   ]
  },
  {
   "cell_type": "markdown",
   "metadata": {},
   "source": [
    "#### **Analytic Approach**\n",
    "\n",
    "So, what we need to do is analyze the data to identify patterns within the existing features that differentiate each vehicle.\n",
    "\n",
    "Next, we will build a regression model that will assist the company in providing a pricing prediction tool for used cars newly listed on Syarah.com. This tool will be useful for sellers in determining the listing rental price."
   ]
  },
  {
   "cell_type": "markdown",
   "metadata": {},
   "source": [
    "#### **Metric Evaluation**\n",
    "\n",
    "In evaluating a regression model for predicting used car rental prices, three key metrics come into play: RMSE (Root Mean Square Error), MAE (Mean Absolute Error), and MAPE (Mean Absolute Percentage Error). RMSE measures the magnitude of prediction errors by averaging their square roots, while MAE calculates the average absolute error, offering a straightforward measure of accuracy. MAPE, on the other hand, provides a sense of error as a percentage of the actual values. Smaller values for these metrics indicate a more accurate model.\n",
    "\n",
    "Additionally, if you're working with a linear model, R-squared (or adjusted R-squared) can be useful. It quantifies how well the model explains the overall data variance, with values closer to 1 signifying a better fit. However, remember that R-squared isn't suitable for non-linear models. Utilizing this combination of metrics allows for a comprehensive evaluation of your model's ability to predict rental prices, considering both the magnitude and percentage of prediction errors, and, when applicable, the model's explanatory power in relation to the data."
   ]
  },
  {
   "cell_type": "markdown",
   "metadata": {},
   "source": [
    "### **Data Understanding**\n",
    "- The dataset contains 5624 records of used cars collected from syarah.com\n",
    "- Each row represents a used car. Other information regarding each car is the brand name, model, manufacturing year, origin, options, engine capacity, transmission type, mileage that the car covered, region price, and negotiable."
   ]
  },
  {
   "cell_type": "markdown",
   "metadata": {},
   "source": [
    "#### **Features**\n",
    "-\tType: Type of used car.\n",
    "-\tRegion: The region in which the used car was offered for sale.\n",
    "-\tMake: The company name.\n",
    "-\tGear_Type: Gear type size of used car.\n",
    "-\tOrigin: Origin of used car.\n",
    "-\tOptions: Options of used car.\n",
    "-\tYear: Manufacturing year.\n",
    "-\tEngine_Size: The engine size of used car.\n",
    "-\tMileage: Mileage of used car in KM\n",
    "-\tNegotiable: True if the price is 0, that means it is negotiable.\n",
    "-\tPrice: Used car price in SAR (Saudi Arabia Riyal)"
   ]
  },
  {
   "cell_type": "code",
   "execution_count": 1,
   "metadata": {},
   "outputs": [],
   "source": [
    "# Import library yang dibutuhkan untuk eksplorasi dataset\n",
    "import pandas as pd \n",
    "import numpy as np\n",
    "import matplotlib.pyplot as plt\n",
    "import seaborn as sns\n",
    "\n",
    "import warnings\n",
    "warnings.filterwarnings('ignore')"
   ]
  },
  {
   "cell_type": "code",
   "execution_count": 2,
   "metadata": {},
   "outputs": [
    {
     "data": {
      "text/html": [
       "<div>\n",
       "<style scoped>\n",
       "    .dataframe tbody tr th:only-of-type {\n",
       "        vertical-align: middle;\n",
       "    }\n",
       "\n",
       "    .dataframe tbody tr th {\n",
       "        vertical-align: top;\n",
       "    }\n",
       "\n",
       "    .dataframe thead th {\n",
       "        text-align: right;\n",
       "    }\n",
       "</style>\n",
       "<table border=\"1\" class=\"dataframe\">\n",
       "  <thead>\n",
       "    <tr style=\"text-align: right;\">\n",
       "      <th></th>\n",
       "      <th>Type</th>\n",
       "      <th>Region</th>\n",
       "      <th>Make</th>\n",
       "      <th>Gear_Type</th>\n",
       "      <th>Origin</th>\n",
       "      <th>Options</th>\n",
       "      <th>Year</th>\n",
       "      <th>Engine_Size</th>\n",
       "      <th>Mileage</th>\n",
       "      <th>Negotiable</th>\n",
       "      <th>Price</th>\n",
       "    </tr>\n",
       "  </thead>\n",
       "  <tbody>\n",
       "    <tr>\n",
       "      <th>0</th>\n",
       "      <td>Corolla</td>\n",
       "      <td>Abha</td>\n",
       "      <td>Toyota</td>\n",
       "      <td>Manual</td>\n",
       "      <td>Saudi</td>\n",
       "      <td>Standard</td>\n",
       "      <td>2013</td>\n",
       "      <td>1.4</td>\n",
       "      <td>421000</td>\n",
       "      <td>True</td>\n",
       "      <td>0</td>\n",
       "    </tr>\n",
       "    <tr>\n",
       "      <th>1</th>\n",
       "      <td>Yukon</td>\n",
       "      <td>Riyadh</td>\n",
       "      <td>GMC</td>\n",
       "      <td>Automatic</td>\n",
       "      <td>Saudi</td>\n",
       "      <td>Full</td>\n",
       "      <td>2014</td>\n",
       "      <td>8.0</td>\n",
       "      <td>80000</td>\n",
       "      <td>False</td>\n",
       "      <td>120000</td>\n",
       "    </tr>\n",
       "    <tr>\n",
       "      <th>2</th>\n",
       "      <td>Range Rover</td>\n",
       "      <td>Riyadh</td>\n",
       "      <td>Land Rover</td>\n",
       "      <td>Automatic</td>\n",
       "      <td>Gulf Arabic</td>\n",
       "      <td>Full</td>\n",
       "      <td>2015</td>\n",
       "      <td>5.0</td>\n",
       "      <td>140000</td>\n",
       "      <td>False</td>\n",
       "      <td>260000</td>\n",
       "    </tr>\n",
       "    <tr>\n",
       "      <th>3</th>\n",
       "      <td>Optima</td>\n",
       "      <td>Hafar Al-Batin</td>\n",
       "      <td>Kia</td>\n",
       "      <td>Automatic</td>\n",
       "      <td>Saudi</td>\n",
       "      <td>Semi Full</td>\n",
       "      <td>2015</td>\n",
       "      <td>2.4</td>\n",
       "      <td>220000</td>\n",
       "      <td>False</td>\n",
       "      <td>42000</td>\n",
       "    </tr>\n",
       "    <tr>\n",
       "      <th>4</th>\n",
       "      <td>FJ</td>\n",
       "      <td>Riyadh</td>\n",
       "      <td>Toyota</td>\n",
       "      <td>Automatic</td>\n",
       "      <td>Saudi</td>\n",
       "      <td>Full</td>\n",
       "      <td>2020</td>\n",
       "      <td>4.0</td>\n",
       "      <td>49000</td>\n",
       "      <td>True</td>\n",
       "      <td>0</td>\n",
       "    </tr>\n",
       "  </tbody>\n",
       "</table>\n",
       "</div>"
      ],
      "text/plain": [
       "          Type          Region        Make  Gear_Type       Origin    Options  \\\n",
       "0      Corolla            Abha      Toyota     Manual        Saudi   Standard   \n",
       "1        Yukon          Riyadh         GMC  Automatic        Saudi       Full   \n",
       "2  Range Rover          Riyadh  Land Rover  Automatic  Gulf Arabic       Full   \n",
       "3       Optima  Hafar Al-Batin         Kia  Automatic        Saudi  Semi Full   \n",
       "4           FJ          Riyadh      Toyota  Automatic        Saudi       Full   \n",
       "\n",
       "   Year  Engine_Size  Mileage  Negotiable   Price  \n",
       "0  2013          1.4   421000        True       0  \n",
       "1  2014          8.0    80000       False  120000  \n",
       "2  2015          5.0   140000       False  260000  \n",
       "3  2015          2.4   220000       False   42000  \n",
       "4  2020          4.0    49000        True       0  "
      ]
     },
     "execution_count": 2,
     "metadata": {},
     "output_type": "execute_result"
    }
   ],
   "source": [
    "# Load dataset\n",
    "df = pd.read_csv('data_saudi_used_cars.csv')\n",
    "df.head()"
   ]
  },
  {
   "cell_type": "markdown",
   "metadata": {},
   "source": [
    "### **Data Preprocessing**\n",
    "At this stage, we will perform data cleaning, and the cleaned data will be used for the subsequent analysis processes. Some of the tasks involved are as follows:\n",
    "- Dropping features that are not relevant to the current problem.\n",
    "- Handling missing values, if any. This can be done by either dropping the feature if it's not needed or by imputing it with a logically reasonable value based on the specific case."
   ]
  },
  {
   "cell_type": "code",
   "execution_count": 3,
   "metadata": {},
   "outputs": [
    {
     "name": "stdout",
     "output_type": "stream",
     "text": [
      "<class 'pandas.core.frame.DataFrame'>\n",
      "RangeIndex: 5624 entries, 0 to 5623\n",
      "Data columns (total 11 columns):\n",
      " #   Column       Non-Null Count  Dtype  \n",
      "---  ------       --------------  -----  \n",
      " 0   Type         5624 non-null   object \n",
      " 1   Region       5624 non-null   object \n",
      " 2   Make         5624 non-null   object \n",
      " 3   Gear_Type    5624 non-null   object \n",
      " 4   Origin       5624 non-null   object \n",
      " 5   Options      5624 non-null   object \n",
      " 6   Year         5624 non-null   int64  \n",
      " 7   Engine_Size  5624 non-null   float64\n",
      " 8   Mileage      5624 non-null   int64  \n",
      " 9   Negotiable   5624 non-null   bool   \n",
      " 10  Price        5624 non-null   int64  \n",
      "dtypes: bool(1), float64(1), int64(3), object(6)\n",
      "memory usage: 445.0+ KB\n"
     ]
    }
   ],
   "source": [
    "df.info()"
   ]
  },
  {
   "cell_type": "markdown",
   "metadata": {},
   "source": [
    "#### **Check Missing Values**"
   ]
  },
  {
   "cell_type": "code",
   "execution_count": 4,
   "metadata": {},
   "outputs": [
    {
     "data": {
      "text/plain": [
       "Type           0\n",
       "Region         0\n",
       "Make           0\n",
       "Gear_Type      0\n",
       "Origin         0\n",
       "Options        0\n",
       "Year           0\n",
       "Engine_Size    0\n",
       "Mileage        0\n",
       "Negotiable     0\n",
       "Price          0\n",
       "dtype: int64"
      ]
     },
     "execution_count": 4,
     "metadata": {},
     "output_type": "execute_result"
    }
   ],
   "source": [
    "# The percentage of missing values in each column.\n",
    "df.isna().sum()"
   ]
  },
  {
   "cell_type": "markdown",
   "metadata": {},
   "source": [
    "There is no missing values"
   ]
  },
  {
   "cell_type": "markdown",
   "metadata": {},
   "source": [
    "#### **Check Duplicate**"
   ]
  },
  {
   "cell_type": "code",
   "execution_count": 5,
   "metadata": {},
   "outputs": [
    {
     "data": {
      "text/plain": [
       "4"
      ]
     },
     "execution_count": 5,
     "metadata": {},
     "output_type": "execute_result"
    }
   ],
   "source": [
    "len(df[df.duplicated()])"
   ]
  },
  {
   "cell_type": "markdown",
   "metadata": {},
   "source": [
    "There are 4 duplicated data"
   ]
  },
  {
   "cell_type": "code",
   "execution_count": 6,
   "metadata": {},
   "outputs": [
    {
     "data": {
      "text/html": [
       "<div>\n",
       "<style scoped>\n",
       "    .dataframe tbody tr th:only-of-type {\n",
       "        vertical-align: middle;\n",
       "    }\n",
       "\n",
       "    .dataframe tbody tr th {\n",
       "        vertical-align: top;\n",
       "    }\n",
       "\n",
       "    .dataframe thead th {\n",
       "        text-align: right;\n",
       "    }\n",
       "</style>\n",
       "<table border=\"1\" class=\"dataframe\">\n",
       "  <thead>\n",
       "    <tr style=\"text-align: right;\">\n",
       "      <th></th>\n",
       "      <th>Type</th>\n",
       "      <th>Region</th>\n",
       "      <th>Make</th>\n",
       "      <th>Gear_Type</th>\n",
       "      <th>Origin</th>\n",
       "      <th>Options</th>\n",
       "      <th>Year</th>\n",
       "      <th>Engine_Size</th>\n",
       "      <th>Mileage</th>\n",
       "      <th>Negotiable</th>\n",
       "      <th>Price</th>\n",
       "    </tr>\n",
       "  </thead>\n",
       "  <tbody>\n",
       "    <tr>\n",
       "      <th>953</th>\n",
       "      <td>Rio</td>\n",
       "      <td>Riyadh</td>\n",
       "      <td>Kia</td>\n",
       "      <td>Automatic</td>\n",
       "      <td>Saudi</td>\n",
       "      <td>Standard</td>\n",
       "      <td>2016</td>\n",
       "      <td>1.4</td>\n",
       "      <td>270000</td>\n",
       "      <td>False</td>\n",
       "      <td>25000</td>\n",
       "    </tr>\n",
       "    <tr>\n",
       "      <th>4646</th>\n",
       "      <td>Sonata</td>\n",
       "      <td>Jeddah</td>\n",
       "      <td>Hyundai</td>\n",
       "      <td>Automatic</td>\n",
       "      <td>Saudi</td>\n",
       "      <td>Standard</td>\n",
       "      <td>2020</td>\n",
       "      <td>2.4</td>\n",
       "      <td>100</td>\n",
       "      <td>False</td>\n",
       "      <td>72910</td>\n",
       "    </tr>\n",
       "    <tr>\n",
       "      <th>4933</th>\n",
       "      <td>Tucson</td>\n",
       "      <td>Dammam</td>\n",
       "      <td>Hyundai</td>\n",
       "      <td>Automatic</td>\n",
       "      <td>Saudi</td>\n",
       "      <td>Standard</td>\n",
       "      <td>2016</td>\n",
       "      <td>2.0</td>\n",
       "      <td>155000</td>\n",
       "      <td>False</td>\n",
       "      <td>45000</td>\n",
       "    </tr>\n",
       "    <tr>\n",
       "      <th>5267</th>\n",
       "      <td>Camry</td>\n",
       "      <td>Riyadh</td>\n",
       "      <td>Toyota</td>\n",
       "      <td>Automatic</td>\n",
       "      <td>Saudi</td>\n",
       "      <td>Full</td>\n",
       "      <td>2013</td>\n",
       "      <td>2.5</td>\n",
       "      <td>185000</td>\n",
       "      <td>True</td>\n",
       "      <td>0</td>\n",
       "    </tr>\n",
       "  </tbody>\n",
       "</table>\n",
       "</div>"
      ],
      "text/plain": [
       "        Type  Region     Make  Gear_Type Origin   Options  Year  Engine_Size  \\\n",
       "953      Rio  Riyadh      Kia  Automatic  Saudi  Standard  2016          1.4   \n",
       "4646  Sonata  Jeddah  Hyundai  Automatic  Saudi  Standard  2020          2.4   \n",
       "4933  Tucson  Dammam  Hyundai  Automatic  Saudi  Standard  2016          2.0   \n",
       "5267   Camry  Riyadh   Toyota  Automatic  Saudi      Full  2013          2.5   \n",
       "\n",
       "      Mileage  Negotiable  Price  \n",
       "953    270000       False  25000  \n",
       "4646      100       False  72910  \n",
       "4933   155000       False  45000  \n",
       "5267   185000        True      0  "
      ]
     },
     "execution_count": 6,
     "metadata": {},
     "output_type": "execute_result"
    }
   ],
   "source": [
    "df[df.duplicated()]"
   ]
  },
  {
   "cell_type": "code",
   "execution_count": 7,
   "metadata": {},
   "outputs": [
    {
     "data": {
      "text/html": [
       "<div>\n",
       "<style scoped>\n",
       "    .dataframe tbody tr th:only-of-type {\n",
       "        vertical-align: middle;\n",
       "    }\n",
       "\n",
       "    .dataframe tbody tr th {\n",
       "        vertical-align: top;\n",
       "    }\n",
       "\n",
       "    .dataframe thead th {\n",
       "        text-align: right;\n",
       "    }\n",
       "</style>\n",
       "<table border=\"1\" class=\"dataframe\">\n",
       "  <thead>\n",
       "    <tr style=\"text-align: right;\">\n",
       "      <th></th>\n",
       "      <th>Type</th>\n",
       "      <th>Region</th>\n",
       "      <th>Make</th>\n",
       "      <th>Gear_Type</th>\n",
       "      <th>Origin</th>\n",
       "      <th>Options</th>\n",
       "      <th>Year</th>\n",
       "      <th>Engine_Size</th>\n",
       "      <th>Mileage</th>\n",
       "      <th>Negotiable</th>\n",
       "      <th>Price</th>\n",
       "    </tr>\n",
       "  </thead>\n",
       "  <tbody>\n",
       "    <tr>\n",
       "      <th>0</th>\n",
       "      <td>Corolla</td>\n",
       "      <td>Abha</td>\n",
       "      <td>Toyota</td>\n",
       "      <td>Manual</td>\n",
       "      <td>Saudi</td>\n",
       "      <td>Standard</td>\n",
       "      <td>2013</td>\n",
       "      <td>1.4</td>\n",
       "      <td>421000</td>\n",
       "      <td>True</td>\n",
       "      <td>0</td>\n",
       "    </tr>\n",
       "    <tr>\n",
       "      <th>1</th>\n",
       "      <td>Yukon</td>\n",
       "      <td>Riyadh</td>\n",
       "      <td>GMC</td>\n",
       "      <td>Automatic</td>\n",
       "      <td>Saudi</td>\n",
       "      <td>Full</td>\n",
       "      <td>2014</td>\n",
       "      <td>8.0</td>\n",
       "      <td>80000</td>\n",
       "      <td>False</td>\n",
       "      <td>120000</td>\n",
       "    </tr>\n",
       "    <tr>\n",
       "      <th>2</th>\n",
       "      <td>Range Rover</td>\n",
       "      <td>Riyadh</td>\n",
       "      <td>Land Rover</td>\n",
       "      <td>Automatic</td>\n",
       "      <td>Gulf Arabic</td>\n",
       "      <td>Full</td>\n",
       "      <td>2015</td>\n",
       "      <td>5.0</td>\n",
       "      <td>140000</td>\n",
       "      <td>False</td>\n",
       "      <td>260000</td>\n",
       "    </tr>\n",
       "    <tr>\n",
       "      <th>3</th>\n",
       "      <td>Optima</td>\n",
       "      <td>Hafar Al-Batin</td>\n",
       "      <td>Kia</td>\n",
       "      <td>Automatic</td>\n",
       "      <td>Saudi</td>\n",
       "      <td>Semi Full</td>\n",
       "      <td>2015</td>\n",
       "      <td>2.4</td>\n",
       "      <td>220000</td>\n",
       "      <td>False</td>\n",
       "      <td>42000</td>\n",
       "    </tr>\n",
       "    <tr>\n",
       "      <th>4</th>\n",
       "      <td>FJ</td>\n",
       "      <td>Riyadh</td>\n",
       "      <td>Toyota</td>\n",
       "      <td>Automatic</td>\n",
       "      <td>Saudi</td>\n",
       "      <td>Full</td>\n",
       "      <td>2020</td>\n",
       "      <td>4.0</td>\n",
       "      <td>49000</td>\n",
       "      <td>True</td>\n",
       "      <td>0</td>\n",
       "    </tr>\n",
       "  </tbody>\n",
       "</table>\n",
       "</div>"
      ],
      "text/plain": [
       "          Type          Region        Make  Gear_Type       Origin    Options  \\\n",
       "0      Corolla            Abha      Toyota     Manual        Saudi   Standard   \n",
       "1        Yukon          Riyadh         GMC  Automatic        Saudi       Full   \n",
       "2  Range Rover          Riyadh  Land Rover  Automatic  Gulf Arabic       Full   \n",
       "3       Optima  Hafar Al-Batin         Kia  Automatic        Saudi  Semi Full   \n",
       "4           FJ          Riyadh      Toyota  Automatic        Saudi       Full   \n",
       "\n",
       "   Year  Engine_Size  Mileage  Negotiable   Price  \n",
       "0  2013          1.4   421000        True       0  \n",
       "1  2014          8.0    80000       False  120000  \n",
       "2  2015          5.0   140000       False  260000  \n",
       "3  2015          2.4   220000       False   42000  \n",
       "4  2020          4.0    49000        True       0  "
      ]
     },
     "execution_count": 7,
     "metadata": {},
     "output_type": "execute_result"
    }
   ],
   "source": [
    "df = df.drop_duplicates()\n",
    "df.head()"
   ]
  },
  {
   "cell_type": "markdown",
   "metadata": {},
   "source": [
    "I decide to delete the duplicate data"
   ]
  },
  {
   "cell_type": "code",
   "execution_count": 8,
   "metadata": {},
   "outputs": [
    {
     "data": {
      "text/html": [
       "<div>\n",
       "<style scoped>\n",
       "    .dataframe tbody tr th:only-of-type {\n",
       "        vertical-align: middle;\n",
       "    }\n",
       "\n",
       "    .dataframe tbody tr th {\n",
       "        vertical-align: top;\n",
       "    }\n",
       "\n",
       "    .dataframe thead th {\n",
       "        text-align: right;\n",
       "    }\n",
       "</style>\n",
       "<table border=\"1\" class=\"dataframe\">\n",
       "  <thead>\n",
       "    <tr style=\"text-align: right;\">\n",
       "      <th></th>\n",
       "      <th>Type</th>\n",
       "      <th>Region</th>\n",
       "      <th>Make</th>\n",
       "      <th>Gear_Type</th>\n",
       "      <th>Origin</th>\n",
       "      <th>Options</th>\n",
       "      <th>Year</th>\n",
       "      <th>Engine_Size</th>\n",
       "      <th>Mileage</th>\n",
       "      <th>Negotiable</th>\n",
       "      <th>Price</th>\n",
       "    </tr>\n",
       "  </thead>\n",
       "  <tbody>\n",
       "  </tbody>\n",
       "</table>\n",
       "</div>"
      ],
      "text/plain": [
       "Empty DataFrame\n",
       "Columns: [Type, Region, Make, Gear_Type, Origin, Options, Year, Engine_Size, Mileage, Negotiable, Price]\n",
       "Index: []"
      ]
     },
     "execution_count": 8,
     "metadata": {},
     "output_type": "execute_result"
    }
   ],
   "source": [
    "df[df.duplicated()]"
   ]
  },
  {
   "cell_type": "code",
   "execution_count": 9,
   "metadata": {},
   "outputs": [
    {
     "data": {
      "text/html": [
       "<div>\n",
       "<style scoped>\n",
       "    .dataframe tbody tr th:only-of-type {\n",
       "        vertical-align: middle;\n",
       "    }\n",
       "\n",
       "    .dataframe tbody tr th {\n",
       "        vertical-align: top;\n",
       "    }\n",
       "\n",
       "    .dataframe thead th {\n",
       "        text-align: right;\n",
       "    }\n",
       "</style>\n",
       "<table border=\"1\" class=\"dataframe\">\n",
       "  <thead>\n",
       "    <tr style=\"text-align: right;\">\n",
       "      <th></th>\n",
       "      <th>Year</th>\n",
       "      <th>Engine_Size</th>\n",
       "      <th>Mileage</th>\n",
       "      <th>Price</th>\n",
       "    </tr>\n",
       "  </thead>\n",
       "  <tbody>\n",
       "    <tr>\n",
       "      <th>count</th>\n",
       "      <td>5620.000000</td>\n",
       "      <td>5620.000000</td>\n",
       "      <td>5.620000e+03</td>\n",
       "      <td>5620.000000</td>\n",
       "    </tr>\n",
       "    <tr>\n",
       "      <th>mean</th>\n",
       "      <td>2014.100356</td>\n",
       "      <td>3.296299</td>\n",
       "      <td>1.509222e+05</td>\n",
       "      <td>53086.404448</td>\n",
       "    </tr>\n",
       "    <tr>\n",
       "      <th>std</th>\n",
       "      <td>5.793003</td>\n",
       "      <td>1.515253</td>\n",
       "      <td>3.829633e+05</td>\n",
       "      <td>70175.153207</td>\n",
       "    </tr>\n",
       "    <tr>\n",
       "      <th>min</th>\n",
       "      <td>1963.000000</td>\n",
       "      <td>1.000000</td>\n",
       "      <td>1.000000e+02</td>\n",
       "      <td>0.000000</td>\n",
       "    </tr>\n",
       "    <tr>\n",
       "      <th>25%</th>\n",
       "      <td>2012.000000</td>\n",
       "      <td>2.000000</td>\n",
       "      <td>3.800000e+04</td>\n",
       "      <td>0.000000</td>\n",
       "    </tr>\n",
       "    <tr>\n",
       "      <th>50%</th>\n",
       "      <td>2016.000000</td>\n",
       "      <td>3.000000</td>\n",
       "      <td>1.030000e+05</td>\n",
       "      <td>36500.000000</td>\n",
       "    </tr>\n",
       "    <tr>\n",
       "      <th>75%</th>\n",
       "      <td>2018.000000</td>\n",
       "      <td>4.500000</td>\n",
       "      <td>1.960000e+05</td>\n",
       "      <td>73000.000000</td>\n",
       "    </tr>\n",
       "    <tr>\n",
       "      <th>max</th>\n",
       "      <td>2022.000000</td>\n",
       "      <td>9.000000</td>\n",
       "      <td>2.000000e+07</td>\n",
       "      <td>850000.000000</td>\n",
       "    </tr>\n",
       "  </tbody>\n",
       "</table>\n",
       "</div>"
      ],
      "text/plain": [
       "              Year  Engine_Size       Mileage          Price\n",
       "count  5620.000000  5620.000000  5.620000e+03    5620.000000\n",
       "mean   2014.100356     3.296299  1.509222e+05   53086.404448\n",
       "std       5.793003     1.515253  3.829633e+05   70175.153207\n",
       "min    1963.000000     1.000000  1.000000e+02       0.000000\n",
       "25%    2012.000000     2.000000  3.800000e+04       0.000000\n",
       "50%    2016.000000     3.000000  1.030000e+05   36500.000000\n",
       "75%    2018.000000     4.500000  1.960000e+05   73000.000000\n",
       "max    2022.000000     9.000000  2.000000e+07  850000.000000"
      ]
     },
     "execution_count": 9,
     "metadata": {},
     "output_type": "execute_result"
    }
   ],
   "source": [
    "df.describe()"
   ]
  },
  {
   "cell_type": "markdown",
   "metadata": {},
   "source": [
    "The minimum value in the Price column is 0, indicating that there are prices listed as 0. Upon further investigation with the Negotiable column, where the value is True, it appears that when Price is 0, it means the price is either 0 or undetermined. Therefore, I will not display data where the Price value is equal to 0."
   ]
  },
  {
   "cell_type": "code",
   "execution_count": 10,
   "metadata": {},
   "outputs": [
    {
     "data": {
      "text/html": [
       "<div>\n",
       "<style scoped>\n",
       "    .dataframe tbody tr th:only-of-type {\n",
       "        vertical-align: middle;\n",
       "    }\n",
       "\n",
       "    .dataframe tbody tr th {\n",
       "        vertical-align: top;\n",
       "    }\n",
       "\n",
       "    .dataframe thead th {\n",
       "        text-align: right;\n",
       "    }\n",
       "</style>\n",
       "<table border=\"1\" class=\"dataframe\">\n",
       "  <thead>\n",
       "    <tr style=\"text-align: right;\">\n",
       "      <th></th>\n",
       "      <th>Type</th>\n",
       "      <th>Region</th>\n",
       "      <th>Make</th>\n",
       "      <th>Gear_Type</th>\n",
       "      <th>Origin</th>\n",
       "      <th>Options</th>\n",
       "      <th>Year</th>\n",
       "      <th>Engine_Size</th>\n",
       "      <th>Mileage</th>\n",
       "      <th>Negotiable</th>\n",
       "      <th>Price</th>\n",
       "    </tr>\n",
       "  </thead>\n",
       "  <tbody>\n",
       "    <tr>\n",
       "      <th>1</th>\n",
       "      <td>Yukon</td>\n",
       "      <td>Riyadh</td>\n",
       "      <td>GMC</td>\n",
       "      <td>Automatic</td>\n",
       "      <td>Saudi</td>\n",
       "      <td>Full</td>\n",
       "      <td>2014</td>\n",
       "      <td>8.0</td>\n",
       "      <td>80000</td>\n",
       "      <td>False</td>\n",
       "      <td>120000</td>\n",
       "    </tr>\n",
       "    <tr>\n",
       "      <th>2</th>\n",
       "      <td>Range Rover</td>\n",
       "      <td>Riyadh</td>\n",
       "      <td>Land Rover</td>\n",
       "      <td>Automatic</td>\n",
       "      <td>Gulf Arabic</td>\n",
       "      <td>Full</td>\n",
       "      <td>2015</td>\n",
       "      <td>5.0</td>\n",
       "      <td>140000</td>\n",
       "      <td>False</td>\n",
       "      <td>260000</td>\n",
       "    </tr>\n",
       "    <tr>\n",
       "      <th>3</th>\n",
       "      <td>Optima</td>\n",
       "      <td>Hafar Al-Batin</td>\n",
       "      <td>Kia</td>\n",
       "      <td>Automatic</td>\n",
       "      <td>Saudi</td>\n",
       "      <td>Semi Full</td>\n",
       "      <td>2015</td>\n",
       "      <td>2.4</td>\n",
       "      <td>220000</td>\n",
       "      <td>False</td>\n",
       "      <td>42000</td>\n",
       "    </tr>\n",
       "    <tr>\n",
       "      <th>5</th>\n",
       "      <td>CX3</td>\n",
       "      <td>Abha</td>\n",
       "      <td>Mazda</td>\n",
       "      <td>Automatic</td>\n",
       "      <td>Saudi</td>\n",
       "      <td>Semi Full</td>\n",
       "      <td>2019</td>\n",
       "      <td>2.0</td>\n",
       "      <td>25000</td>\n",
       "      <td>False</td>\n",
       "      <td>58000</td>\n",
       "    </tr>\n",
       "    <tr>\n",
       "      <th>6</th>\n",
       "      <td>Cayenne S</td>\n",
       "      <td>Riyadh</td>\n",
       "      <td>Porsche</td>\n",
       "      <td>Automatic</td>\n",
       "      <td>Saudi</td>\n",
       "      <td>Full</td>\n",
       "      <td>2012</td>\n",
       "      <td>4.8</td>\n",
       "      <td>189000</td>\n",
       "      <td>False</td>\n",
       "      <td>85000</td>\n",
       "    </tr>\n",
       "  </tbody>\n",
       "</table>\n",
       "</div>"
      ],
      "text/plain": [
       "          Type          Region        Make  Gear_Type       Origin    Options  \\\n",
       "1        Yukon          Riyadh         GMC  Automatic        Saudi       Full   \n",
       "2  Range Rover          Riyadh  Land Rover  Automatic  Gulf Arabic       Full   \n",
       "3       Optima  Hafar Al-Batin         Kia  Automatic        Saudi  Semi Full   \n",
       "5          CX3            Abha       Mazda  Automatic        Saudi  Semi Full   \n",
       "6    Cayenne S          Riyadh     Porsche  Automatic        Saudi       Full   \n",
       "\n",
       "   Year  Engine_Size  Mileage  Negotiable   Price  \n",
       "1  2014          8.0    80000       False  120000  \n",
       "2  2015          5.0   140000       False  260000  \n",
       "3  2015          2.4   220000       False   42000  \n",
       "5  2019          2.0    25000       False   58000  \n",
       "6  2012          4.8   189000       False   85000  "
      ]
     },
     "execution_count": 10,
     "metadata": {},
     "output_type": "execute_result"
    }
   ],
   "source": [
    "df = df[df['Price'] != 0]\n",
    "df.head()"
   ]
  },
  {
   "cell_type": "markdown",
   "metadata": {},
   "source": [
    "#### **Drop Columns**"
   ]
  },
  {
   "cell_type": "markdown",
   "metadata": {},
   "source": [
    "'Negotiable' column is not necessary for analysis, so I will delete it."
   ]
  },
  {
   "cell_type": "code",
   "execution_count": 11,
   "metadata": {},
   "outputs": [
    {
     "data": {
      "text/html": [
       "<div>\n",
       "<style scoped>\n",
       "    .dataframe tbody tr th:only-of-type {\n",
       "        vertical-align: middle;\n",
       "    }\n",
       "\n",
       "    .dataframe tbody tr th {\n",
       "        vertical-align: top;\n",
       "    }\n",
       "\n",
       "    .dataframe thead th {\n",
       "        text-align: right;\n",
       "    }\n",
       "</style>\n",
       "<table border=\"1\" class=\"dataframe\">\n",
       "  <thead>\n",
       "    <tr style=\"text-align: right;\">\n",
       "      <th></th>\n",
       "      <th>Type</th>\n",
       "      <th>Region</th>\n",
       "      <th>Make</th>\n",
       "      <th>Gear_Type</th>\n",
       "      <th>Origin</th>\n",
       "      <th>Options</th>\n",
       "      <th>Year</th>\n",
       "      <th>Engine_Size</th>\n",
       "      <th>Mileage</th>\n",
       "      <th>Price</th>\n",
       "    </tr>\n",
       "  </thead>\n",
       "  <tbody>\n",
       "    <tr>\n",
       "      <th>1</th>\n",
       "      <td>Yukon</td>\n",
       "      <td>Riyadh</td>\n",
       "      <td>GMC</td>\n",
       "      <td>Automatic</td>\n",
       "      <td>Saudi</td>\n",
       "      <td>Full</td>\n",
       "      <td>2014</td>\n",
       "      <td>8.0</td>\n",
       "      <td>80000</td>\n",
       "      <td>120000</td>\n",
       "    </tr>\n",
       "    <tr>\n",
       "      <th>2</th>\n",
       "      <td>Range Rover</td>\n",
       "      <td>Riyadh</td>\n",
       "      <td>Land Rover</td>\n",
       "      <td>Automatic</td>\n",
       "      <td>Gulf Arabic</td>\n",
       "      <td>Full</td>\n",
       "      <td>2015</td>\n",
       "      <td>5.0</td>\n",
       "      <td>140000</td>\n",
       "      <td>260000</td>\n",
       "    </tr>\n",
       "    <tr>\n",
       "      <th>3</th>\n",
       "      <td>Optima</td>\n",
       "      <td>Hafar Al-Batin</td>\n",
       "      <td>Kia</td>\n",
       "      <td>Automatic</td>\n",
       "      <td>Saudi</td>\n",
       "      <td>Semi Full</td>\n",
       "      <td>2015</td>\n",
       "      <td>2.4</td>\n",
       "      <td>220000</td>\n",
       "      <td>42000</td>\n",
       "    </tr>\n",
       "    <tr>\n",
       "      <th>5</th>\n",
       "      <td>CX3</td>\n",
       "      <td>Abha</td>\n",
       "      <td>Mazda</td>\n",
       "      <td>Automatic</td>\n",
       "      <td>Saudi</td>\n",
       "      <td>Semi Full</td>\n",
       "      <td>2019</td>\n",
       "      <td>2.0</td>\n",
       "      <td>25000</td>\n",
       "      <td>58000</td>\n",
       "    </tr>\n",
       "    <tr>\n",
       "      <th>6</th>\n",
       "      <td>Cayenne S</td>\n",
       "      <td>Riyadh</td>\n",
       "      <td>Porsche</td>\n",
       "      <td>Automatic</td>\n",
       "      <td>Saudi</td>\n",
       "      <td>Full</td>\n",
       "      <td>2012</td>\n",
       "      <td>4.8</td>\n",
       "      <td>189000</td>\n",
       "      <td>85000</td>\n",
       "    </tr>\n",
       "  </tbody>\n",
       "</table>\n",
       "</div>"
      ],
      "text/plain": [
       "          Type          Region        Make  Gear_Type       Origin    Options  \\\n",
       "1        Yukon          Riyadh         GMC  Automatic        Saudi       Full   \n",
       "2  Range Rover          Riyadh  Land Rover  Automatic  Gulf Arabic       Full   \n",
       "3       Optima  Hafar Al-Batin         Kia  Automatic        Saudi  Semi Full   \n",
       "5          CX3            Abha       Mazda  Automatic        Saudi  Semi Full   \n",
       "6    Cayenne S          Riyadh     Porsche  Automatic        Saudi       Full   \n",
       "\n",
       "   Year  Engine_Size  Mileage   Price  \n",
       "1  2014          8.0    80000  120000  \n",
       "2  2015          5.0   140000  260000  \n",
       "3  2015          2.4   220000   42000  \n",
       "5  2019          2.0    25000   58000  \n",
       "6  2012          4.8   189000   85000  "
      ]
     },
     "execution_count": 11,
     "metadata": {},
     "output_type": "execute_result"
    }
   ],
   "source": [
    "df = df.drop(['Negotiable'], axis=1)\n",
    "df.head()"
   ]
  },
  {
   "cell_type": "markdown",
   "metadata": {},
   "source": [
    "#### **Check Outlier**"
   ]
  },
  {
   "cell_type": "markdown",
   "metadata": {},
   "source": [
    "**Car's Price Distribution Plot**"
   ]
  },
  {
   "cell_type": "code",
   "execution_count": 12,
   "metadata": {},
   "outputs": [
    {
     "data": {
      "image/png": "[encoded data removed]",
      "text/plain": [
       "<Figure size 1400x800 with 2 Axes>"
      ]
     },
     "metadata": {},
     "output_type": "display_data"
    }
   ],
   "source": [
    "plt.figure(figsize=(14,8))\n",
    "\n",
    "plt.subplot(1,2,1)\n",
    "plt.title('Car Price Distribution Plot')\n",
    "sns.distplot(df.Price)\n",
    "plt.ticklabel_format(useOffset=False, style='plain', axis=('x'))\n",
    "\n",
    "plt.subplot(1,2,2)\n",
    "plt.title('Car Price Spread')\n",
    "sns.boxplot(y=df.Price)\n",
    "plt.ticklabel_format(useOffset=False, style='plain', axis='y')\n",
    "\n",
    "plt.show()"
   ]
  },
  {
   "cell_type": "markdown",
   "metadata": {},
   "source": [
    "The plot seemed to be right-skewed, meaning that the most prices in the dataset are relatively low (Below 90,000 SAR)."
   ]
  },
  {
   "cell_type": "markdown",
   "metadata": {},
   "source": [
    "Lowest Price in Syarah.com"
   ]
  },
  {
   "cell_type": "markdown",
   "metadata": {},
   "source": [
    "![lowest](./low.jpg)"
   ]
  },
  {
   "cell_type": "markdown",
   "metadata": {},
   "source": [
    "Highest Price in Syarah.com"
   ]
  },
  {
   "cell_type": "markdown",
   "metadata": {},
   "source": [
    "![high](./high.jpg)"
   ]
  },
  {
   "cell_type": "markdown",
   "metadata": {},
   "source": [
    "After checking syarah.com, I found that the lowest selling price for cars is 26,000 SAR. Therefore, I will only display data for cars priced above 25,000 SAR."
   ]
  },
  {
   "cell_type": "code",
   "execution_count": 13,
   "metadata": {},
   "outputs": [
    {
     "data": {
      "text/html": [
       "<div>\n",
       "<style scoped>\n",
       "    .dataframe tbody tr th:only-of-type {\n",
       "        vertical-align: middle;\n",
       "    }\n",
       "\n",
       "    .dataframe tbody tr th {\n",
       "        vertical-align: top;\n",
       "    }\n",
       "\n",
       "    .dataframe thead th {\n",
       "        text-align: right;\n",
       "    }\n",
       "</style>\n",
       "<table border=\"1\" class=\"dataframe\">\n",
       "  <thead>\n",
       "    <tr style=\"text-align: right;\">\n",
       "      <th></th>\n",
       "      <th>Type</th>\n",
       "      <th>Region</th>\n",
       "      <th>Make</th>\n",
       "      <th>Gear_Type</th>\n",
       "      <th>Origin</th>\n",
       "      <th>Options</th>\n",
       "      <th>Year</th>\n",
       "      <th>Engine_Size</th>\n",
       "      <th>Mileage</th>\n",
       "      <th>Price</th>\n",
       "    </tr>\n",
       "  </thead>\n",
       "  <tbody>\n",
       "    <tr>\n",
       "      <th>1</th>\n",
       "      <td>Yukon</td>\n",
       "      <td>Riyadh</td>\n",
       "      <td>GMC</td>\n",
       "      <td>Automatic</td>\n",
       "      <td>Saudi</td>\n",
       "      <td>Full</td>\n",
       "      <td>2014</td>\n",
       "      <td>8.0</td>\n",
       "      <td>80000</td>\n",
       "      <td>120000</td>\n",
       "    </tr>\n",
       "    <tr>\n",
       "      <th>2</th>\n",
       "      <td>Range Rover</td>\n",
       "      <td>Riyadh</td>\n",
       "      <td>Land Rover</td>\n",
       "      <td>Automatic</td>\n",
       "      <td>Gulf Arabic</td>\n",
       "      <td>Full</td>\n",
       "      <td>2015</td>\n",
       "      <td>5.0</td>\n",
       "      <td>140000</td>\n",
       "      <td>260000</td>\n",
       "    </tr>\n",
       "    <tr>\n",
       "      <th>3</th>\n",
       "      <td>Optima</td>\n",
       "      <td>Hafar Al-Batin</td>\n",
       "      <td>Kia</td>\n",
       "      <td>Automatic</td>\n",
       "      <td>Saudi</td>\n",
       "      <td>Semi Full</td>\n",
       "      <td>2015</td>\n",
       "      <td>2.4</td>\n",
       "      <td>220000</td>\n",
       "      <td>42000</td>\n",
       "    </tr>\n",
       "    <tr>\n",
       "      <th>5</th>\n",
       "      <td>CX3</td>\n",
       "      <td>Abha</td>\n",
       "      <td>Mazda</td>\n",
       "      <td>Automatic</td>\n",
       "      <td>Saudi</td>\n",
       "      <td>Semi Full</td>\n",
       "      <td>2019</td>\n",
       "      <td>2.0</td>\n",
       "      <td>25000</td>\n",
       "      <td>58000</td>\n",
       "    </tr>\n",
       "    <tr>\n",
       "      <th>6</th>\n",
       "      <td>Cayenne S</td>\n",
       "      <td>Riyadh</td>\n",
       "      <td>Porsche</td>\n",
       "      <td>Automatic</td>\n",
       "      <td>Saudi</td>\n",
       "      <td>Full</td>\n",
       "      <td>2012</td>\n",
       "      <td>4.8</td>\n",
       "      <td>189000</td>\n",
       "      <td>85000</td>\n",
       "    </tr>\n",
       "  </tbody>\n",
       "</table>\n",
       "</div>"
      ],
      "text/plain": [
       "          Type          Region        Make  Gear_Type       Origin    Options  \\\n",
       "1        Yukon          Riyadh         GMC  Automatic        Saudi       Full   \n",
       "2  Range Rover          Riyadh  Land Rover  Automatic  Gulf Arabic       Full   \n",
       "3       Optima  Hafar Al-Batin         Kia  Automatic        Saudi  Semi Full   \n",
       "5          CX3            Abha       Mazda  Automatic        Saudi  Semi Full   \n",
       "6    Cayenne S          Riyadh     Porsche  Automatic        Saudi       Full   \n",
       "\n",
       "   Year  Engine_Size  Mileage   Price  \n",
       "1  2014          8.0    80000  120000  \n",
       "2  2015          5.0   140000  260000  \n",
       "3  2015          2.4   220000   42000  \n",
       "5  2019          2.0    25000   58000  \n",
       "6  2012          4.8   189000   85000  "
      ]
     },
     "execution_count": 13,
     "metadata": {},
     "output_type": "execute_result"
    }
   ],
   "source": [
    "df = df[df['Price'] > 25000]\n",
    "df.head()"
   ]
  },
  {
   "cell_type": "markdown",
   "metadata": {},
   "source": [
    "**Car's Year Distribution Plot**"
   ]
  },
  {
   "cell_type": "code",
   "execution_count": 14,
   "metadata": {},
   "outputs": [
    {
     "data": {
      "image/png": "[encoded data removed]",
      "text/plain": [
       "<Figure size 1400x800 with 2 Axes>"
      ]
     },
     "metadata": {},
     "output_type": "display_data"
    }
   ],
   "source": [
    "plt.figure(figsize=(14,8))\n",
    "\n",
    "plt.subplot(1,2,1)\n",
    "plt.title('Car Year Distribution Plot')\n",
    "sns.distplot(df.Year)\n",
    "plt.ticklabel_format(useOffset=False, style='plain', axis=('x'))\n",
    "\n",
    "plt.subplot(1,2,2)\n",
    "plt.title('Car Year Spread')\n",
    "sns.boxplot(y=df.Year)\n",
    "plt.ticklabel_format(useOffset=False, style='plain', axis='y')\n",
    "\n",
    "plt.show()"
   ]
  },
  {
   "cell_type": "markdown",
   "metadata": {},
   "source": [
    "The plot seemed to be left-skewed, meaning that the most years in the dataset are relatively in between 2010 and 2020"
   ]
  },
  {
   "cell_type": "markdown",
   "metadata": {},
   "source": [
    "**Car's Mileage Distribution Plot**"
   ]
  },
  {
   "cell_type": "code",
   "execution_count": 15,
   "metadata": {},
   "outputs": [
    {
     "data": {
      "image/png": "[encoded data removed]",
      "text/plain": [
       "<Figure size 1400x800 with 2 Axes>"
      ]
     },
     "metadata": {},
     "output_type": "display_data"
    }
   ],
   "source": [
    "plt.figure(figsize=(14,8))\n",
    "\n",
    "plt.subplot(1,2,1)\n",
    "plt.title('Car Mileage Distribution Plot')\n",
    "sns.distplot(df.Mileage)\n",
    "plt.ticklabel_format(useOffset=False, style='plain', axis=('x'))\n",
    "\n",
    "plt.subplot(1,2,2)\n",
    "plt.title('Car Mileage Spread')\n",
    "sns.boxplot(y=df.Mileage)\n",
    "plt.ticklabel_format(useOffset=False, style='plain', axis='y')\n",
    "\n",
    "plt.show()"
   ]
  },
  {
   "cell_type": "markdown",
   "metadata": {},
   "source": [
    "The plot seemed to be right-skewed, meaning that the most years in the dataset are relatively under 500000. However, there is an outlier data for its mileage, which is above 500,000. After checking on Syarah.com, it turns out that there are cars being sold with mileage exceeding that."
   ]
  },
  {
   "cell_type": "markdown",
   "metadata": {},
   "source": [
    "![mil](./mil.jpg)"
   ]
  },
  {
   "cell_type": "markdown",
   "metadata": {},
   "source": [
    "#### **Rename Columns**"
   ]
  },
  {
   "cell_type": "markdown",
   "metadata": {},
   "source": [
    "To better identify column names, I have changed some column names to the following:\n",
    "- Type = Model\n",
    "- Make = Brand\n",
    "- Gear_Type = Gear\n",
    "- Options = Features"
   ]
  },
  {
   "cell_type": "code",
   "execution_count": 16,
   "metadata": {},
   "outputs": [
    {
     "data": {
      "text/html": [
       "<div>\n",
       "<style scoped>\n",
       "    .dataframe tbody tr th:only-of-type {\n",
       "        vertical-align: middle;\n",
       "    }\n",
       "\n",
       "    .dataframe tbody tr th {\n",
       "        vertical-align: top;\n",
       "    }\n",
       "\n",
       "    .dataframe thead th {\n",
       "        text-align: right;\n",
       "    }\n",
       "</style>\n",
       "<table border=\"1\" class=\"dataframe\">\n",
       "  <thead>\n",
       "    <tr style=\"text-align: right;\">\n",
       "      <th></th>\n",
       "      <th>Model</th>\n",
       "      <th>Region</th>\n",
       "      <th>Brand</th>\n",
       "      <th>Gear_Type</th>\n",
       "      <th>Origin</th>\n",
       "      <th>Features</th>\n",
       "      <th>Year</th>\n",
       "      <th>Engine_Size</th>\n",
       "      <th>Mileage</th>\n",
       "      <th>Price</th>\n",
       "    </tr>\n",
       "  </thead>\n",
       "  <tbody>\n",
       "    <tr>\n",
       "      <th>1</th>\n",
       "      <td>Yukon</td>\n",
       "      <td>Riyadh</td>\n",
       "      <td>GMC</td>\n",
       "      <td>Automatic</td>\n",
       "      <td>Saudi</td>\n",
       "      <td>Full</td>\n",
       "      <td>2014</td>\n",
       "      <td>8.0</td>\n",
       "      <td>80000</td>\n",
       "      <td>120000</td>\n",
       "    </tr>\n",
       "    <tr>\n",
       "      <th>2</th>\n",
       "      <td>Range Rover</td>\n",
       "      <td>Riyadh</td>\n",
       "      <td>Land Rover</td>\n",
       "      <td>Automatic</td>\n",
       "      <td>Gulf Arabic</td>\n",
       "      <td>Full</td>\n",
       "      <td>2015</td>\n",
       "      <td>5.0</td>\n",
       "      <td>140000</td>\n",
       "      <td>260000</td>\n",
       "    </tr>\n",
       "    <tr>\n",
       "      <th>3</th>\n",
       "      <td>Optima</td>\n",
       "      <td>Hafar Al-Batin</td>\n",
       "      <td>Kia</td>\n",
       "      <td>Automatic</td>\n",
       "      <td>Saudi</td>\n",
       "      <td>Semi Full</td>\n",
       "      <td>2015</td>\n",
       "      <td>2.4</td>\n",
       "      <td>220000</td>\n",
       "      <td>42000</td>\n",
       "    </tr>\n",
       "    <tr>\n",
       "      <th>5</th>\n",
       "      <td>CX3</td>\n",
       "      <td>Abha</td>\n",
       "      <td>Mazda</td>\n",
       "      <td>Automatic</td>\n",
       "      <td>Saudi</td>\n",
       "      <td>Semi Full</td>\n",
       "      <td>2019</td>\n",
       "      <td>2.0</td>\n",
       "      <td>25000</td>\n",
       "      <td>58000</td>\n",
       "    </tr>\n",
       "    <tr>\n",
       "      <th>6</th>\n",
       "      <td>Cayenne S</td>\n",
       "      <td>Riyadh</td>\n",
       "      <td>Porsche</td>\n",
       "      <td>Automatic</td>\n",
       "      <td>Saudi</td>\n",
       "      <td>Full</td>\n",
       "      <td>2012</td>\n",
       "      <td>4.8</td>\n",
       "      <td>189000</td>\n",
       "      <td>85000</td>\n",
       "    </tr>\n",
       "    <tr>\n",
       "      <th>...</th>\n",
       "      <td>...</td>\n",
       "      <td>...</td>\n",
       "      <td>...</td>\n",
       "      <td>...</td>\n",
       "      <td>...</td>\n",
       "      <td>...</td>\n",
       "      <td>...</td>\n",
       "      <td>...</td>\n",
       "      <td>...</td>\n",
       "      <td>...</td>\n",
       "    </tr>\n",
       "    <tr>\n",
       "      <th>5616</th>\n",
       "      <td>CX9</td>\n",
       "      <td>Qassim</td>\n",
       "      <td>Mazda</td>\n",
       "      <td>Automatic</td>\n",
       "      <td>Saudi</td>\n",
       "      <td>Full</td>\n",
       "      <td>2020</td>\n",
       "      <td>2.0</td>\n",
       "      <td>9500</td>\n",
       "      <td>132000</td>\n",
       "    </tr>\n",
       "    <tr>\n",
       "      <th>5618</th>\n",
       "      <td>Suburban</td>\n",
       "      <td>Riyadh</td>\n",
       "      <td>GMC</td>\n",
       "      <td>Automatic</td>\n",
       "      <td>Saudi</td>\n",
       "      <td>Full</td>\n",
       "      <td>2006</td>\n",
       "      <td>5.3</td>\n",
       "      <td>86000</td>\n",
       "      <td>50000</td>\n",
       "    </tr>\n",
       "    <tr>\n",
       "      <th>5619</th>\n",
       "      <td>X-Trail</td>\n",
       "      <td>Jeddah</td>\n",
       "      <td>Nissan</td>\n",
       "      <td>Automatic</td>\n",
       "      <td>Saudi</td>\n",
       "      <td>Standard</td>\n",
       "      <td>2018</td>\n",
       "      <td>2.5</td>\n",
       "      <td>78794</td>\n",
       "      <td>68000</td>\n",
       "    </tr>\n",
       "    <tr>\n",
       "      <th>5621</th>\n",
       "      <td>Yukon</td>\n",
       "      <td>Dammam</td>\n",
       "      <td>GMC</td>\n",
       "      <td>Automatic</td>\n",
       "      <td>Saudi</td>\n",
       "      <td>Full</td>\n",
       "      <td>2016</td>\n",
       "      <td>5.3</td>\n",
       "      <td>48000</td>\n",
       "      <td>145000</td>\n",
       "    </tr>\n",
       "    <tr>\n",
       "      <th>5622</th>\n",
       "      <td>RX</td>\n",
       "      <td>Dammam</td>\n",
       "      <td>Lexus</td>\n",
       "      <td>Automatic</td>\n",
       "      <td>Gulf Arabic</td>\n",
       "      <td>Full</td>\n",
       "      <td>2016</td>\n",
       "      <td>2.5</td>\n",
       "      <td>81000</td>\n",
       "      <td>154000</td>\n",
       "    </tr>\n",
       "  </tbody>\n",
       "</table>\n",
       "<p>3293 rows × 10 columns</p>\n",
       "</div>"
      ],
      "text/plain": [
       "            Model          Region       Brand  Gear_Type       Origin  \\\n",
       "1           Yukon          Riyadh         GMC  Automatic        Saudi   \n",
       "2     Range Rover          Riyadh  Land Rover  Automatic  Gulf Arabic   \n",
       "3          Optima  Hafar Al-Batin         Kia  Automatic        Saudi   \n",
       "5             CX3            Abha       Mazda  Automatic        Saudi   \n",
       "6       Cayenne S          Riyadh     Porsche  Automatic        Saudi   \n",
       "...           ...             ...         ...        ...          ...   \n",
       "5616          CX9          Qassim       Mazda  Automatic        Saudi   \n",
       "5618     Suburban          Riyadh         GMC  Automatic        Saudi   \n",
       "5619      X-Trail          Jeddah      Nissan  Automatic        Saudi   \n",
       "5621        Yukon          Dammam         GMC  Automatic        Saudi   \n",
       "5622           RX          Dammam       Lexus  Automatic  Gulf Arabic   \n",
       "\n",
       "       Features  Year  Engine_Size  Mileage   Price  \n",
       "1          Full  2014          8.0    80000  120000  \n",
       "2          Full  2015          5.0   140000  260000  \n",
       "3     Semi Full  2015          2.4   220000   42000  \n",
       "5     Semi Full  2019          2.0    25000   58000  \n",
       "6          Full  2012          4.8   189000   85000  \n",
       "...         ...   ...          ...      ...     ...  \n",
       "5616       Full  2020          2.0     9500  132000  \n",
       "5618       Full  2006          5.3    86000   50000  \n",
       "5619   Standard  2018          2.5    78794   68000  \n",
       "5621       Full  2016          5.3    48000  145000  \n",
       "5622       Full  2016          2.5    81000  154000  \n",
       "\n",
       "[3293 rows x 10 columns]"
      ]
     },
     "execution_count": 16,
     "metadata": {},
     "output_type": "execute_result"
    }
   ],
   "source": [
    "df = df.rename(columns={\"Type\": \"Model\", \"Make\": \"Brand\", \"Options\": \"Features\" })\n",
    "df"
   ]
  },
  {
   "cell_type": "markdown",
   "metadata": {},
   "source": [
    "#### **Check Unique Values**"
   ]
  },
  {
   "cell_type": "code",
   "execution_count": 17,
   "metadata": {},
   "outputs": [
    {
     "data": {
      "text/html": [
       "<div>\n",
       "<style scoped>\n",
       "    .dataframe tbody tr th:only-of-type {\n",
       "        vertical-align: middle;\n",
       "    }\n",
       "\n",
       "    .dataframe tbody tr th {\n",
       "        vertical-align: top;\n",
       "    }\n",
       "\n",
       "    .dataframe thead th {\n",
       "        text-align: right;\n",
       "    }\n",
       "</style>\n",
       "<table border=\"1\" class=\"dataframe\">\n",
       "  <thead>\n",
       "    <tr style=\"text-align: right;\">\n",
       "      <th></th>\n",
       "      <th>Column Name</th>\n",
       "      <th>Number of Unique</th>\n",
       "      <th>Unique Sample</th>\n",
       "    </tr>\n",
       "  </thead>\n",
       "  <tbody>\n",
       "    <tr>\n",
       "      <th>0</th>\n",
       "      <td>Model</td>\n",
       "      <td>281</td>\n",
       "      <td>[Yukon, Range Rover, Optima, CX3, Cayenne S, Sonata, Avalon, C300, Land Cruiser, LS, FJ, Tucson, Pajero, Azera, 5, ML, Corolla, Tahoe, A, Expedition, Senta fe, X, Land Cruiser Pickup, VTC, Malibu, The 5, Patrol, Grand Cherokee, SL, Previa, MKZ, Datsun, Hilux, GLC, Edge, 6, Innova, Navara, G80, Carnival, Camaro, Accord, Taurus, Camry, Elantra, Flex, S, Cerato, Furniture, Land Cruiser 70, Altima, 3, Pick up, Charger, H6, Hiace, Sunny, Accent, CX9, Yaris, Sierra, Durango, CT-S, Sylvian Bus, ES, Navigator, The 7, Creta, CS35, The 3, GLE, Sedona, Victoria, Prestige, CLA, Vanquish, Cadenza, Silverado, Rio, X-Trail, C, Seven, Prado, LX, Impala, QX, H1, Rav4, The M, Genesis, Fusion, Traverse, Suburban, SEL, Civic, Echo Sport, Challenger, CL, Wrangler, Maxima, ...]</td>\n",
       "    </tr>\n",
       "    <tr>\n",
       "      <th>1</th>\n",
       "      <td>Region</td>\n",
       "      <td>27</td>\n",
       "      <td>[Riyadh, Hafar Al-Batin, Abha, Makkah, Dammam, Jeddah, Al-Baha, Jazan, Al-Namas, Qassim, Al-Medina, Taef, Al-Ahsa, Sabya, Al-Jouf, Yanbu, Khobar, Najran, Aseer, Hail, Tabouk, Jubail, Besha, Qurayyat, Sakaka, Wadi Dawasir, Arar]</td>\n",
       "    </tr>\n",
       "    <tr>\n",
       "      <th>2</th>\n",
       "      <td>Brand</td>\n",
       "      <td>53</td>\n",
       "      <td>[GMC, Land Rover, Kia, Mazda, Porsche, Hyundai, Toyota, Chrysler, Lexus, Mitsubishi, MG, Mercedes, Chevrolet, Ford, BMW, Nissan, Jeep, Lincoln, Genesis, Honda, Zhengzhou, Dodge, HAVAL, Cadillac, Changan, Aston Martin, INFINITI, Audi, Rolls-Royce, MINI, Other, BYD, Volkswagen, Victory Auto, Suzuki, Renault, Geely, Isuzu, Daihatsu, Maserati, GAC, Bentley, Chery, Jaguar, Peugeot, Foton, Mercury, Fiat, Iveco, FAW, Great Wall, Hummer, Ferrari]</td>\n",
       "    </tr>\n",
       "    <tr>\n",
       "      <th>3</th>\n",
       "      <td>Gear_Type</td>\n",
       "      <td>2</td>\n",
       "      <td>[Automatic, Manual]</td>\n",
       "    </tr>\n",
       "    <tr>\n",
       "      <th>4</th>\n",
       "      <td>Origin</td>\n",
       "      <td>4</td>\n",
       "      <td>[Saudi, Gulf Arabic, Other, Unknown]</td>\n",
       "    </tr>\n",
       "    <tr>\n",
       "      <th>5</th>\n",
       "      <td>Features</td>\n",
       "      <td>3</td>\n",
       "      <td>[Full, Semi Full, Standard]</td>\n",
       "    </tr>\n",
       "    <tr>\n",
       "      <th>6</th>\n",
       "      <td>Year</td>\n",
       "      <td>35</td>\n",
       "      <td>[2014, 2015, 2019, 2012, 2016, 2013, 2011, 2008, 2020, 2018, 2021, 2010, 2017, 2007, 2009, 2005, 1990, 2006, 1998, 1980, 2002, 2003, 1988, 2000, 1991, 1964, 2004, 1999, 1989, 2001, 1978, 1985, 1993, 1997, 1992]</td>\n",
       "    </tr>\n",
       "    <tr>\n",
       "      <th>7</th>\n",
       "      <td>Engine_Size</td>\n",
       "      <td>64</td>\n",
       "      <td>[8.0, 5.0, 2.4, 2.0, 4.8, 3.5, 5.7, 4.6, 4.0, 3.0, 1.5, 1.6, 6.2, 5.3, 5.4, 3.3, 2.5, 3.6, 4.7, 3.7, 2.7, 4.5, 3.8, 5.5, 2.6, 1.8, 1.4, 6.9, 3.2, 6.0, 1.0, 2.2, 5.6, 2.9, 4.1, 1.7, 8.8, 1.2, 9.0, 1.9, 7.5, 4.3, 3.4, 2.8, 8.5, 2.3, 1.3, 7.2, 7.0, 6.3, 1.1, 5.8, 5.2, 6.4, 2.1, 3.1, 6.7, 4.4, 3.9, 8.7, 6.1, 6.6, 4.9, 6.8]</td>\n",
       "    </tr>\n",
       "    <tr>\n",
       "      <th>8</th>\n",
       "      <td>Mileage</td>\n",
       "      <td>1208</td>\n",
       "      <td>[80000, 140000, 220000, 25000, 189000, 155, 110864, 200, 79000, 299000, 17000, 71000, 85000, 74715, 284000, 3400, 139240, 296, 105920, 10000, 292000, 270000, 350000, 92000, 98000, 307801, 62000, 38000, 208000, 11000, 245000, 81000, 156000, 228000, 98100, 182000, 210800, 88000, 82808, 4000, 70000, 115, 91440, 45000, 50100, 35449, 180, 66200, 89000, 349000, 105000, 130000, 256, 73000, 866, 216, 148000, 188257, 117000, 211257, 135000, 290000, 43632, 530500, 153000, 126000, 180000, 108000, 122000, 53000, 181000, 13800, 9000, 168000, 86500, 192692, 48000, 38920, 32000, 3000, 334000, 34000, 229000, 151000, 201000, 130, 147000, 101732, 9800, 231000, 487100, 92412, 128, 200000, 124000, 79968, 240000, 63000, 132000, 103000, ...]</td>\n",
       "    </tr>\n",
       "    <tr>\n",
       "      <th>9</th>\n",
       "      <td>Price</td>\n",
       "      <td>364</td>\n",
       "      <td>[120000, 260000, 42000, 58000, 85000, 48000, 81500, 55000, 145000, 38000, 140000, 200000, 65000, 76000, 32000, 45000, 30000, 149000, 179000, 49500, 52000, 72000, 105000, 99000, 57000, 110000, 265000, 56500, 90000, 71500, 29000, 62000, 141000, 230000, 225000, 60000, 93000, 68000, 50000, 69000, 121500, 51000, 109000, 47000, 88000, 142000, 53000, 39000, 78500, 35000, 45500, 33000, 125000, 63000, 80000, 44000, 54000, 37000, 79000, 70000, 81000, 68500, 33500, 118000, 36500, 75000, 61500, 44500, 107000, 102000, 99500, 122000, 77000, 100000, 59500, 119000, 38500, 165000, 330000, 72910, 410000, 400000, 35500, 66000, 76500, 27000, 95000, 115000, 26000, 69500, 28500, 185000, 210000, 40000, 245000, 27500, 89000, 49000, 138000, 126000, ...]</td>\n",
       "    </tr>\n",
       "  </tbody>\n",
       "</table>\n",
       "</div>"
      ],
      "text/plain": [
       "   Column Name  Number of Unique  \\\n",
       "0  Model        281                \n",
       "1  Region       27                 \n",
       "2  Brand        53                 \n",
       "3  Gear_Type    2                  \n",
       "4  Origin       4                  \n",
       "5  Features     3                  \n",
       "6  Year         35                 \n",
       "7  Engine_Size  64                 \n",
       "8  Mileage      1208               \n",
       "9  Price        364                \n",
       "\n",
       "                                                                                                                                                                                                                                                                                                                                                                                                                                                                                                                                                                                                                                                                                                                                                                                    Unique Sample  \n",
       "0  [Yukon, Range Rover, Optima, CX3, Cayenne S, Sonata, Avalon, C300, Land Cruiser, LS, FJ, Tucson, Pajero, Azera, 5, ML, Corolla, Tahoe, A, Expedition, Senta fe, X, Land Cruiser Pickup, VTC, Malibu, The 5, Patrol, Grand Cherokee, SL, Previa, MKZ, Datsun, Hilux, GLC, Edge, 6, Innova, Navara, G80, Carnival, Camaro, Accord, Taurus, Camry, Elantra, Flex, S, Cerato, Furniture, Land Cruiser 70, Altima, 3, Pick up, Charger, H6, Hiace, Sunny, Accent, CX9, Yaris, Sierra, Durango, CT-S, Sylvian Bus, ES, Navigator, The 7, Creta, CS35, The 3, GLE, Sedona, Victoria, Prestige, CLA, Vanquish, Cadenza, Silverado, Rio, X-Trail, C, Seven, Prado, LX, Impala, QX, H1, Rav4, The M, Genesis, Fusion, Traverse, Suburban, SEL, Civic, Echo Sport, Challenger, CL, Wrangler, Maxima, ...]  \n",
       "1  [Riyadh, Hafar Al-Batin, Abha, Makkah, Dammam, Jeddah, Al-Baha, Jazan, Al-Namas, Qassim, Al-Medina, Taef, Al-Ahsa, Sabya, Al-Jouf, Yanbu, Khobar, Najran, Aseer, Hail, Tabouk, Jubail, Besha, Qurayyat, Sakaka, Wadi Dawasir, Arar]                                                                                                                                                                                                                                                                                                                                                                                                                                                                                                                                                             \n",
       "2  [GMC, Land Rover, Kia, Mazda, Porsche, Hyundai, Toyota, Chrysler, Lexus, Mitsubishi, MG, Mercedes, Chevrolet, Ford, BMW, Nissan, Jeep, Lincoln, Genesis, Honda, Zhengzhou, Dodge, HAVAL, Cadillac, Changan, Aston Martin, INFINITI, Audi, Rolls-Royce, MINI, Other, BYD, Volkswagen, Victory Auto, Suzuki, Renault, Geely, Isuzu, Daihatsu, Maserati, GAC, Bentley, Chery, Jaguar, Peugeot, Foton, Mercury, Fiat, Iveco, FAW, Great Wall, Hummer, Ferrari]                                                                                                                                                                                                                                                                                                                                      \n",
       "3  [Automatic, Manual]                                                                                                                                                                                                                                                                                                                                                                                                                                                                                                                                                                                                                                                                                                                                                                             \n",
       "4  [Saudi, Gulf Arabic, Other, Unknown]                                                                                                                                                                                                                                                                                                                                                                                                                                                                                                                                                                                                                                                                                                                                                            \n",
       "5  [Full, Semi Full, Standard]                                                                                                                                                                                                                                                                                                                                                                                                                                                                                                                                                                                                                                                                                                                                                                     \n",
       "6  [2014, 2015, 2019, 2012, 2016, 2013, 2011, 2008, 2020, 2018, 2021, 2010, 2017, 2007, 2009, 2005, 1990, 2006, 1998, 1980, 2002, 2003, 1988, 2000, 1991, 1964, 2004, 1999, 1989, 2001, 1978, 1985, 1993, 1997, 1992]                                                                                                                                                                                                                                                                                                                                                                                                                                                                                                                                                                              \n",
       "7  [8.0, 5.0, 2.4, 2.0, 4.8, 3.5, 5.7, 4.6, 4.0, 3.0, 1.5, 1.6, 6.2, 5.3, 5.4, 3.3, 2.5, 3.6, 4.7, 3.7, 2.7, 4.5, 3.8, 5.5, 2.6, 1.8, 1.4, 6.9, 3.2, 6.0, 1.0, 2.2, 5.6, 2.9, 4.1, 1.7, 8.8, 1.2, 9.0, 1.9, 7.5, 4.3, 3.4, 2.8, 8.5, 2.3, 1.3, 7.2, 7.0, 6.3, 1.1, 5.8, 5.2, 6.4, 2.1, 3.1, 6.7, 4.4, 3.9, 8.7, 6.1, 6.6, 4.9, 6.8]                                                                                                                                                                                                                                                                                                                                                                                                                                                                \n",
       "8  [80000, 140000, 220000, 25000, 189000, 155, 110864, 200, 79000, 299000, 17000, 71000, 85000, 74715, 284000, 3400, 139240, 296, 105920, 10000, 292000, 270000, 350000, 92000, 98000, 307801, 62000, 38000, 208000, 11000, 245000, 81000, 156000, 228000, 98100, 182000, 210800, 88000, 82808, 4000, 70000, 115, 91440, 45000, 50100, 35449, 180, 66200, 89000, 349000, 105000, 130000, 256, 73000, 866, 216, 148000, 188257, 117000, 211257, 135000, 290000, 43632, 530500, 153000, 126000, 180000, 108000, 122000, 53000, 181000, 13800, 9000, 168000, 86500, 192692, 48000, 38920, 32000, 3000, 334000, 34000, 229000, 151000, 201000, 130, 147000, 101732, 9800, 231000, 487100, 92412, 128, 200000, 124000, 79968, 240000, 63000, 132000, 103000, ...]                                       \n",
       "9  [120000, 260000, 42000, 58000, 85000, 48000, 81500, 55000, 145000, 38000, 140000, 200000, 65000, 76000, 32000, 45000, 30000, 149000, 179000, 49500, 52000, 72000, 105000, 99000, 57000, 110000, 265000, 56500, 90000, 71500, 29000, 62000, 141000, 230000, 225000, 60000, 93000, 68000, 50000, 69000, 121500, 51000, 109000, 47000, 88000, 142000, 53000, 39000, 78500, 35000, 45500, 33000, 125000, 63000, 80000, 44000, 54000, 37000, 79000, 70000, 81000, 68500, 33500, 118000, 36500, 75000, 61500, 44500, 107000, 102000, 99500, 122000, 77000, 100000, 59500, 119000, 38500, 165000, 330000, 72910, 410000, 400000, 35500, 66000, 76500, 27000, 95000, 115000, 26000, 69500, 28500, 185000, 210000, 40000, 245000, 27500, 89000, 49000, 138000, 126000, ...]                              "
      ]
     },
     "execution_count": 17,
     "metadata": {},
     "output_type": "execute_result"
    }
   ],
   "source": [
    "pd.set_option('display.max_colwidth', 1)\n",
    "listItem = []\n",
    "for col in df.columns :\n",
    "    listItem.append( [col, df[col].nunique(), df[col].unique()])\n",
    "\n",
    "tabel1Desc = pd.DataFrame(columns=['Column Name', 'Number of Unique', 'Unique Sample'],\n",
    "                     data=listItem)\n",
    "tabel1Desc"
   ]
  },
  {
   "cell_type": "code",
   "execution_count": 18,
   "metadata": {},
   "outputs": [
    {
     "data": {
      "text/html": [
       "<div>\n",
       "<style scoped>\n",
       "    .dataframe tbody tr th:only-of-type {\n",
       "        vertical-align: middle;\n",
       "    }\n",
       "\n",
       "    .dataframe tbody tr th {\n",
       "        vertical-align: top;\n",
       "    }\n",
       "\n",
       "    .dataframe thead th {\n",
       "        text-align: right;\n",
       "    }\n",
       "</style>\n",
       "<table border=\"1\" class=\"dataframe\">\n",
       "  <thead>\n",
       "    <tr style=\"text-align: right;\">\n",
       "      <th></th>\n",
       "      <th>Year</th>\n",
       "      <th>Engine_Size</th>\n",
       "      <th>Mileage</th>\n",
       "      <th>Price</th>\n",
       "    </tr>\n",
       "  </thead>\n",
       "  <tbody>\n",
       "    <tr>\n",
       "      <th>count</th>\n",
       "      <td>3293.000000</td>\n",
       "      <td>3293.000000</td>\n",
       "      <td>3.293000e+03</td>\n",
       "      <td>3293.000000</td>\n",
       "    </tr>\n",
       "    <tr>\n",
       "      <th>mean</th>\n",
       "      <td>2015.738840</td>\n",
       "      <td>3.237413</td>\n",
       "      <td>1.229814e+05</td>\n",
       "      <td>88063.851503</td>\n",
       "    </tr>\n",
       "    <tr>\n",
       "      <th>std</th>\n",
       "      <td>3.997242</td>\n",
       "      <td>1.444932</td>\n",
       "      <td>1.469408e+05</td>\n",
       "      <td>73555.866550</td>\n",
       "    </tr>\n",
       "    <tr>\n",
       "      <th>min</th>\n",
       "      <td>1964.000000</td>\n",
       "      <td>1.000000</td>\n",
       "      <td>1.000000e+02</td>\n",
       "      <td>25500.000000</td>\n",
       "    </tr>\n",
       "    <tr>\n",
       "      <th>25%</th>\n",
       "      <td>2015.000000</td>\n",
       "      <td>2.000000</td>\n",
       "      <td>4.800000e+04</td>\n",
       "      <td>45000.000000</td>\n",
       "    </tr>\n",
       "    <tr>\n",
       "      <th>50%</th>\n",
       "      <td>2016.000000</td>\n",
       "      <td>3.000000</td>\n",
       "      <td>9.800000e+04</td>\n",
       "      <td>65000.000000</td>\n",
       "    </tr>\n",
       "    <tr>\n",
       "      <th>75%</th>\n",
       "      <td>2018.000000</td>\n",
       "      <td>4.000000</td>\n",
       "      <td>1.680000e+05</td>\n",
       "      <td>105000.000000</td>\n",
       "    </tr>\n",
       "    <tr>\n",
       "      <th>max</th>\n",
       "      <td>2021.000000</td>\n",
       "      <td>9.000000</td>\n",
       "      <td>3.640000e+06</td>\n",
       "      <td>850000.000000</td>\n",
       "    </tr>\n",
       "  </tbody>\n",
       "</table>\n",
       "</div>"
      ],
      "text/plain": [
       "              Year  Engine_Size       Mileage          Price\n",
       "count  3293.000000  3293.000000  3.293000e+03  3293.000000  \n",
       "mean   2015.738840  3.237413     1.229814e+05  88063.851503 \n",
       "std    3.997242     1.444932     1.469408e+05  73555.866550 \n",
       "min    1964.000000  1.000000     1.000000e+02  25500.000000 \n",
       "25%    2015.000000  2.000000     4.800000e+04  45000.000000 \n",
       "50%    2016.000000  3.000000     9.800000e+04  65000.000000 \n",
       "75%    2018.000000  4.000000     1.680000e+05  105000.000000\n",
       "max    2021.000000  9.000000     3.640000e+06  850000.000000"
      ]
     },
     "execution_count": 18,
     "metadata": {},
     "output_type": "execute_result"
    }
   ],
   "source": [
    "df.describe()"
   ]
  },
  {
   "cell_type": "markdown",
   "metadata": {},
   "source": [
    "After Data Preprocessing, the data that was originally 5624 is now 3293."
   ]
  },
  {
   "cell_type": "markdown",
   "metadata": {},
   "source": [
    "### **Modelling**"
   ]
  },
  {
   "cell_type": "code",
   "execution_count": 19,
   "metadata": {},
   "outputs": [],
   "source": [
    "# train test split\n",
    "from sklearn.model_selection import train_test_split\n",
    "\n",
    "# combining multiple preprocessing steps or other functions\n",
    "from sklearn.compose import ColumnTransformer\n",
    "from sklearn.pipeline import Pipeline\n",
    "\n",
    "# encoder and scaler\n",
    "from sklearn.preprocessing import OneHotEncoder\n",
    "from category_encoders import BinaryEncoder, OrdinalEncoder\n",
    "from sklearn.preprocessing import RobustScaler, MinMaxScaler, StandardScaler\n",
    "from sklearn.experimental import enable_iterative_imputer\n",
    "from sklearn.impute import SimpleImputer, IterativeImputer\n",
    "\n",
    "# ML algorithm\n",
    "from sklearn.linear_model import LinearRegression, Lasso, Ridge, ElasticNet\n",
    "from sklearn.neighbors import KNeighborsRegressor\n",
    "from sklearn.tree import DecisionTreeRegressor\n",
    "from sklearn.ensemble import RandomForestRegressor\n",
    "from xgboost import XGBRegressor\n",
    "from sklearn.ensemble import GradientBoostingRegressor\n",
    "\n",
    "# cross-validation to determine the best algorithm\n",
    "from sklearn.model_selection import cross_val_score, KFold\n",
    "\n",
    "# metrics for regression\n",
    "from sklearn.metrics import mean_squared_error, mean_absolute_error, mean_absolute_percentage_error, mean_squared_log_error"
   ]
  },
  {
   "cell_type": "markdown",
   "metadata": {},
   "source": [
    "#### **Data Splitting**"
   ]
  },
  {
   "cell_type": "code",
   "execution_count": 20,
   "metadata": {},
   "outputs": [],
   "source": [
    "# Separate independent variable data from the target\n",
    "X = df.drop(columns=['Price'])\n",
    "y = df['Price']"
   ]
  },
  {
   "cell_type": "code",
   "execution_count": 21,
   "metadata": {},
   "outputs": [
    {
     "data": {
      "text/html": [
       "<div>\n",
       "<style scoped>\n",
       "    .dataframe tbody tr th:only-of-type {\n",
       "        vertical-align: middle;\n",
       "    }\n",
       "\n",
       "    .dataframe tbody tr th {\n",
       "        vertical-align: top;\n",
       "    }\n",
       "\n",
       "    .dataframe thead th {\n",
       "        text-align: right;\n",
       "    }\n",
       "</style>\n",
       "<table border=\"1\" class=\"dataframe\">\n",
       "  <thead>\n",
       "    <tr style=\"text-align: right;\">\n",
       "      <th></th>\n",
       "      <th>Model</th>\n",
       "      <th>Region</th>\n",
       "      <th>Brand</th>\n",
       "      <th>Gear_Type</th>\n",
       "      <th>Origin</th>\n",
       "      <th>Features</th>\n",
       "      <th>Year</th>\n",
       "      <th>Engine_Size</th>\n",
       "      <th>Mileage</th>\n",
       "    </tr>\n",
       "  </thead>\n",
       "  <tbody>\n",
       "    <tr>\n",
       "      <th>1</th>\n",
       "      <td>Yukon</td>\n",
       "      <td>Riyadh</td>\n",
       "      <td>GMC</td>\n",
       "      <td>Automatic</td>\n",
       "      <td>Saudi</td>\n",
       "      <td>Full</td>\n",
       "      <td>2014</td>\n",
       "      <td>8.0</td>\n",
       "      <td>80000</td>\n",
       "    </tr>\n",
       "    <tr>\n",
       "      <th>2</th>\n",
       "      <td>Range Rover</td>\n",
       "      <td>Riyadh</td>\n",
       "      <td>Land Rover</td>\n",
       "      <td>Automatic</td>\n",
       "      <td>Gulf Arabic</td>\n",
       "      <td>Full</td>\n",
       "      <td>2015</td>\n",
       "      <td>5.0</td>\n",
       "      <td>140000</td>\n",
       "    </tr>\n",
       "    <tr>\n",
       "      <th>3</th>\n",
       "      <td>Optima</td>\n",
       "      <td>Hafar Al-Batin</td>\n",
       "      <td>Kia</td>\n",
       "      <td>Automatic</td>\n",
       "      <td>Saudi</td>\n",
       "      <td>Semi Full</td>\n",
       "      <td>2015</td>\n",
       "      <td>2.4</td>\n",
       "      <td>220000</td>\n",
       "    </tr>\n",
       "    <tr>\n",
       "      <th>5</th>\n",
       "      <td>CX3</td>\n",
       "      <td>Abha</td>\n",
       "      <td>Mazda</td>\n",
       "      <td>Automatic</td>\n",
       "      <td>Saudi</td>\n",
       "      <td>Semi Full</td>\n",
       "      <td>2019</td>\n",
       "      <td>2.0</td>\n",
       "      <td>25000</td>\n",
       "    </tr>\n",
       "    <tr>\n",
       "      <th>6</th>\n",
       "      <td>Cayenne S</td>\n",
       "      <td>Riyadh</td>\n",
       "      <td>Porsche</td>\n",
       "      <td>Automatic</td>\n",
       "      <td>Saudi</td>\n",
       "      <td>Full</td>\n",
       "      <td>2012</td>\n",
       "      <td>4.8</td>\n",
       "      <td>189000</td>\n",
       "    </tr>\n",
       "  </tbody>\n",
       "</table>\n",
       "</div>"
      ],
      "text/plain": [
       "         Model          Region       Brand  Gear_Type       Origin   Features  \\\n",
       "1  Yukon        Riyadh          GMC         Automatic  Saudi        Full        \n",
       "2  Range Rover  Riyadh          Land Rover  Automatic  Gulf Arabic  Full        \n",
       "3  Optima       Hafar Al-Batin  Kia         Automatic  Saudi        Semi Full   \n",
       "5  CX3          Abha            Mazda       Automatic  Saudi        Semi Full   \n",
       "6  Cayenne S    Riyadh          Porsche     Automatic  Saudi        Full        \n",
       "\n",
       "   Year  Engine_Size  Mileage  \n",
       "1  2014  8.0          80000    \n",
       "2  2015  5.0          140000   \n",
       "3  2015  2.4          220000   \n",
       "5  2019  2.0          25000    \n",
       "6  2012  4.8          189000   "
      ]
     },
     "execution_count": 21,
     "metadata": {},
     "output_type": "execute_result"
    }
   ],
   "source": [
    "X.head()"
   ]
  },
  {
   "cell_type": "code",
   "execution_count": 22,
   "metadata": {},
   "outputs": [
    {
     "data": {
      "text/plain": [
       "1    120000\n",
       "2    260000\n",
       "3    42000 \n",
       "5    58000 \n",
       "6    85000 \n",
       "Name: Price, dtype: int64"
      ]
     },
     "execution_count": 22,
     "metadata": {},
     "output_type": "execute_result"
    }
   ],
   "source": [
    "y.head()"
   ]
  },
  {
   "cell_type": "code",
   "execution_count": 23,
   "metadata": {},
   "outputs": [
    {
     "data": {
      "text/plain": [
       "count    3293.000000  \n",
       "mean     88063.851503 \n",
       "std      73555.866550 \n",
       "min      25500.000000 \n",
       "25%      45000.000000 \n",
       "50%      65000.000000 \n",
       "75%      105000.000000\n",
       "max      850000.000000\n",
       "Name: Price, dtype: float64"
      ]
     },
     "execution_count": 23,
     "metadata": {},
     "output_type": "execute_result"
    }
   ],
   "source": [
    "y.describe()"
   ]
  },
  {
   "cell_type": "markdown",
   "metadata": {},
   "source": [
    "y actual maximum values is 850.000"
   ]
  },
  {
   "cell_type": "markdown",
   "metadata": {},
   "source": [
    "#### **Train Test Split**"
   ]
  },
  {
   "cell_type": "code",
   "execution_count": 24,
   "metadata": {},
   "outputs": [],
   "source": [
    "# Splitting data training dan test with proportion 75:25\n",
    "X_train, X_test, y_train, y_test = train_test_split(\n",
    "    X, \n",
    "    y,\n",
    "    test_size=0.25,\n",
    "    random_state=42\n",
    ")"
   ]
  },
  {
   "cell_type": "code",
   "execution_count": 25,
   "metadata": {},
   "outputs": [
    {
     "data": {
      "text/plain": [
       "count    824.000000   \n",
       "mean     87119.291262 \n",
       "std      66798.877980 \n",
       "min      25500.000000 \n",
       "25%      44750.000000 \n",
       "50%      65000.000000 \n",
       "75%      109000.000000\n",
       "max      575000.000000\n",
       "Name: Price, dtype: float64"
      ]
     },
     "execution_count": 25,
     "metadata": {},
     "output_type": "execute_result"
    }
   ],
   "source": [
    "y_test.describe()"
   ]
  },
  {
   "cell_type": "markdown",
   "metadata": {},
   "source": [
    "y actual and y_test have different maximum values, this will affect the accuracy of the car price prediction **especially for high price**."
   ]
  },
  {
   "cell_type": "markdown",
   "metadata": {},
   "source": [
    "#### **Encoding**\n",
    "In order to use all the selected features, categorical features must be converted into numerical features. We can use ColumnTransformer to change their data type, which can then be applied to the model pipeline."
   ]
  },
  {
   "cell_type": "code",
   "execution_count": 26,
   "metadata": {},
   "outputs": [],
   "source": [
    "onehotcol = ['Gear_Type', 'Origin', 'Features']\n",
    "binarycol = ['Model', 'Region', 'Brand']\n",
    "robustcol = ['Year', 'Engine_Size', 'Mileage']"
   ]
  },
  {
   "cell_type": "markdown",
   "metadata": {},
   "source": [
    "- I grouped Gear_type, Origin, and Features into **One-Hot** encoding because they are categorical variables with relatively low variability\n",
    "- I converted the 'model,' 'region,' and 'brand' into **Binary** encoding because they exhibit more variability\n",
    "- I transformed 'year,' 'engine_size,' and 'mileage' to **Robust** encoding because their values have outliers \n"
   ]
  },
  {
   "cell_type": "code",
   "execution_count": 27,
   "metadata": {},
   "outputs": [
    {
     "data": {
      "text/html": [
       "<style>#sk-container-id-1 {color: black;}#sk-container-id-1 pre{padding: 0;}#sk-container-id-1 div.sk-toggleable {background-color: white;}#sk-container-id-1 label.sk-toggleable__label {cursor: pointer;display: block;width: 100%;margin-bottom: 0;padding: 0.3em;box-sizing: border-box;text-align: center;}#sk-container-id-1 label.sk-toggleable__label-arrow:before {content: \"▸\";float: left;margin-right: 0.25em;color: #696969;}#sk-container-id-1 label.sk-toggleable__label-arrow:hover:before {color: black;}#sk-container-id-1 div.sk-estimator:hover label.sk-toggleable__label-arrow:before {color: black;}#sk-container-id-1 div.sk-toggleable__content {max-height: 0;max-width: 0;overflow: hidden;text-align: left;background-color: #f0f8ff;}#sk-container-id-1 div.sk-toggleable__content pre {margin: 0.2em;color: black;border-radius: 0.25em;background-color: #f0f8ff;}#sk-container-id-1 input.sk-toggleable__control:checked~div.sk-toggleable__content {max-height: 200px;max-width: 100%;overflow: auto;}#sk-container-id-1 input.sk-toggleable__control:checked~label.sk-toggleable__label-arrow:before {content: \"▾\";}#sk-container-id-1 div.sk-estimator input.sk-toggleable__control:checked~label.sk-toggleable__label {background-color: #d4ebff;}#sk-container-id-1 div.sk-label input.sk-toggleable__control:checked~label.sk-toggleable__label {background-color: #d4ebff;}#sk-container-id-1 input.sk-hidden--visually {border: 0;clip: rect(1px 1px 1px 1px);clip: rect(1px, 1px, 1px, 1px);height: 1px;margin: -1px;overflow: hidden;padding: 0;position: absolute;width: 1px;}#sk-container-id-1 div.sk-estimator {font-family: monospace;background-color: #f0f8ff;border: 1px dotted black;border-radius: 0.25em;box-sizing: border-box;margin-bottom: 0.5em;}#sk-container-id-1 div.sk-estimator:hover {background-color: #d4ebff;}#sk-container-id-1 div.sk-parallel-item::after {content: \"\";width: 100%;border-bottom: 1px solid gray;flex-grow: 1;}#sk-container-id-1 div.sk-label:hover label.sk-toggleable__label {background-color: #d4ebff;}#sk-container-id-1 div.sk-serial::before {content: \"\";position: absolute;border-left: 1px solid gray;box-sizing: border-box;top: 0;bottom: 0;left: 50%;z-index: 0;}#sk-container-id-1 div.sk-serial {display: flex;flex-direction: column;align-items: center;background-color: white;padding-right: 0.2em;padding-left: 0.2em;position: relative;}#sk-container-id-1 div.sk-item {position: relative;z-index: 1;}#sk-container-id-1 div.sk-parallel {display: flex;align-items: stretch;justify-content: center;background-color: white;position: relative;}#sk-container-id-1 div.sk-item::before, #sk-container-id-1 div.sk-parallel-item::before {content: \"\";position: absolute;border-left: 1px solid gray;box-sizing: border-box;top: 0;bottom: 0;left: 50%;z-index: -1;}#sk-container-id-1 div.sk-parallel-item {display: flex;flex-direction: column;z-index: 1;position: relative;background-color: white;}#sk-container-id-1 div.sk-parallel-item:first-child::after {align-self: flex-end;width: 50%;}#sk-container-id-1 div.sk-parallel-item:last-child::after {align-self: flex-start;width: 50%;}#sk-container-id-1 div.sk-parallel-item:only-child::after {width: 0;}#sk-container-id-1 div.sk-dashed-wrapped {border: 1px dashed gray;margin: 0 0.4em 0.5em 0.4em;box-sizing: border-box;padding-bottom: 0.4em;background-color: white;}#sk-container-id-1 div.sk-label label {font-family: monospace;font-weight: bold;display: inline-block;line-height: 1.2em;}#sk-container-id-1 div.sk-label-container {text-align: center;}#sk-container-id-1 div.sk-container {/* jupyter's `normalize.less` sets `[hidden] { display: none; }` but bootstrap.min.css set `[hidden] { display: none !important; }` so we also need the `!important` here to be able to override the default hidden behavior on the sphinx rendered scikit-learn.org. See: https://github.com/scikit-learn/scikit-learn/issues/21755 */display: inline-block !important;position: relative;}#sk-container-id-1 div.sk-text-repr-fallback {display: none;}</style><div id=\"sk-container-id-1\" class=\"sk-top-container\"><div class=\"sk-text-repr-fallback\"><pre>ColumnTransformer(remainder=&#x27;passthrough&#x27;,\n",
       "                  transformers=[(&#x27;binary&#x27;,\n",
       "                                 BinaryEncoder(cols=[&#x27;Model&#x27;, &#x27;Region&#x27;,\n",
       "                                                     &#x27;Brand&#x27;]),\n",
       "                                 [&#x27;Model&#x27;, &#x27;Region&#x27;, &#x27;Brand&#x27;]),\n",
       "                                (&#x27;onehot&#x27;, OneHotEncoder(drop=&#x27;first&#x27;),\n",
       "                                 [&#x27;Gear_Type&#x27;, &#x27;Origin&#x27;, &#x27;Features&#x27;]),\n",
       "                                (&#x27;robust&#x27;, RobustScaler(),\n",
       "                                 [&#x27;Year&#x27;, &#x27;Engine_Size&#x27;, &#x27;Mileage&#x27;])])</pre><b>In a Jupyter environment, please rerun this cell to show the HTML representation or trust the notebook. <br />On GitHub, the HTML representation is unable to render, please try loading this page with nbviewer.org.</b></div><div class=\"sk-container\" hidden><div class=\"sk-item sk-dashed-wrapped\"><div class=\"sk-label-container\"><div class=\"sk-label sk-toggleable\"><input class=\"sk-toggleable__control sk-hidden--visually\" id=\"sk-estimator-id-1\" type=\"checkbox\" ><label for=\"sk-estimator-id-1\" class=\"sk-toggleable__label sk-toggleable__label-arrow\">ColumnTransformer</label><div class=\"sk-toggleable__content\"><pre>ColumnTransformer(remainder=&#x27;passthrough&#x27;,\n",
       "                  transformers=[(&#x27;binary&#x27;,\n",
       "                                 BinaryEncoder(cols=[&#x27;Model&#x27;, &#x27;Region&#x27;,\n",
       "                                                     &#x27;Brand&#x27;]),\n",
       "                                 [&#x27;Model&#x27;, &#x27;Region&#x27;, &#x27;Brand&#x27;]),\n",
       "                                (&#x27;onehot&#x27;, OneHotEncoder(drop=&#x27;first&#x27;),\n",
       "                                 [&#x27;Gear_Type&#x27;, &#x27;Origin&#x27;, &#x27;Features&#x27;]),\n",
       "                                (&#x27;robust&#x27;, RobustScaler(),\n",
       "                                 [&#x27;Year&#x27;, &#x27;Engine_Size&#x27;, &#x27;Mileage&#x27;])])</pre></div></div></div><div class=\"sk-parallel\"><div class=\"sk-parallel-item\"><div class=\"sk-item\"><div class=\"sk-label-container\"><div class=\"sk-label sk-toggleable\"><input class=\"sk-toggleable__control sk-hidden--visually\" id=\"sk-estimator-id-2\" type=\"checkbox\" ><label for=\"sk-estimator-id-2\" class=\"sk-toggleable__label sk-toggleable__label-arrow\">binary</label><div class=\"sk-toggleable__content\"><pre>[&#x27;Model&#x27;, &#x27;Region&#x27;, &#x27;Brand&#x27;]</pre></div></div></div><div class=\"sk-serial\"><div class=\"sk-item\"><div class=\"sk-estimator sk-toggleable\"><input class=\"sk-toggleable__control sk-hidden--visually\" id=\"sk-estimator-id-3\" type=\"checkbox\" ><label for=\"sk-estimator-id-3\" class=\"sk-toggleable__label sk-toggleable__label-arrow\">BinaryEncoder</label><div class=\"sk-toggleable__content\"><pre>BinaryEncoder(cols=[&#x27;Model&#x27;, &#x27;Region&#x27;, &#x27;Brand&#x27;])</pre></div></div></div></div></div></div><div class=\"sk-parallel-item\"><div class=\"sk-item\"><div class=\"sk-label-container\"><div class=\"sk-label sk-toggleable\"><input class=\"sk-toggleable__control sk-hidden--visually\" id=\"sk-estimator-id-4\" type=\"checkbox\" ><label for=\"sk-estimator-id-4\" class=\"sk-toggleable__label sk-toggleable__label-arrow\">onehot</label><div class=\"sk-toggleable__content\"><pre>[&#x27;Gear_Type&#x27;, &#x27;Origin&#x27;, &#x27;Features&#x27;]</pre></div></div></div><div class=\"sk-serial\"><div class=\"sk-item\"><div class=\"sk-estimator sk-toggleable\"><input class=\"sk-toggleable__control sk-hidden--visually\" id=\"sk-estimator-id-5\" type=\"checkbox\" ><label for=\"sk-estimator-id-5\" class=\"sk-toggleable__label sk-toggleable__label-arrow\">OneHotEncoder</label><div class=\"sk-toggleable__content\"><pre>OneHotEncoder(drop=&#x27;first&#x27;)</pre></div></div></div></div></div></div><div class=\"sk-parallel-item\"><div class=\"sk-item\"><div class=\"sk-label-container\"><div class=\"sk-label sk-toggleable\"><input class=\"sk-toggleable__control sk-hidden--visually\" id=\"sk-estimator-id-6\" type=\"checkbox\" ><label for=\"sk-estimator-id-6\" class=\"sk-toggleable__label sk-toggleable__label-arrow\">robust</label><div class=\"sk-toggleable__content\"><pre>[&#x27;Year&#x27;, &#x27;Engine_Size&#x27;, &#x27;Mileage&#x27;]</pre></div></div></div><div class=\"sk-serial\"><div class=\"sk-item\"><div class=\"sk-estimator sk-toggleable\"><input class=\"sk-toggleable__control sk-hidden--visually\" id=\"sk-estimator-id-7\" type=\"checkbox\" ><label for=\"sk-estimator-id-7\" class=\"sk-toggleable__label sk-toggleable__label-arrow\">RobustScaler</label><div class=\"sk-toggleable__content\"><pre>RobustScaler()</pre></div></div></div></div></div></div><div class=\"sk-parallel-item\"><div class=\"sk-item\"><div class=\"sk-label-container\"><div class=\"sk-label sk-toggleable\"><input class=\"sk-toggleable__control sk-hidden--visually\" id=\"sk-estimator-id-8\" type=\"checkbox\" ><label for=\"sk-estimator-id-8\" class=\"sk-toggleable__label sk-toggleable__label-arrow\">remainder</label><div class=\"sk-toggleable__content\"><pre></pre></div></div></div><div class=\"sk-serial\"><div class=\"sk-item\"><div class=\"sk-estimator sk-toggleable\"><input class=\"sk-toggleable__control sk-hidden--visually\" id=\"sk-estimator-id-9\" type=\"checkbox\" ><label for=\"sk-estimator-id-9\" class=\"sk-toggleable__label sk-toggleable__label-arrow\">passthrough</label><div class=\"sk-toggleable__content\"><pre>passthrough</pre></div></div></div></div></div></div></div></div></div></div>"
      ],
      "text/plain": [
       "ColumnTransformer(remainder='passthrough',\n",
       "                  transformers=[('binary',\n",
       "                                 BinaryEncoder(cols=['Model', 'Region',\n",
       "                                                     'Brand']),\n",
       "                                 ['Model', 'Region', 'Brand']),\n",
       "                                ('onehot', OneHotEncoder(drop='first'),\n",
       "                                 ['Gear_Type', 'Origin', 'Features']),\n",
       "                                ('robust', RobustScaler(),\n",
       "                                 ['Year', 'Engine_Size', 'Mileage'])])"
      ]
     },
     "execution_count": 27,
     "metadata": {},
     "output_type": "execute_result"
    }
   ],
   "source": [
    "transformer = ColumnTransformer([\n",
    "    ('binary', BinaryEncoder(cols=binarycol), binarycol),\n",
    "    ('onehot', OneHotEncoder(drop='first'), onehotcol),\n",
    "    ('robust', RobustScaler(), robustcol),\n",
    "], remainder='passthrough')\n",
    "\n",
    "transformer"
   ]
  },
  {
   "cell_type": "markdown",
   "metadata": {},
   "source": [
    "#### **Model Benchmarking**"
   ]
  },
  {
   "cell_type": "code",
   "execution_count": 28,
   "metadata": {},
   "outputs": [
    {
     "data": {
      "text/html": [
       "<div>\n",
       "<style scoped>\n",
       "    .dataframe tbody tr th:only-of-type {\n",
       "        vertical-align: middle;\n",
       "    }\n",
       "\n",
       "    .dataframe tbody tr th {\n",
       "        vertical-align: top;\n",
       "    }\n",
       "\n",
       "    .dataframe thead th {\n",
       "        text-align: right;\n",
       "    }\n",
       "</style>\n",
       "<table border=\"1\" class=\"dataframe\">\n",
       "  <thead>\n",
       "    <tr style=\"text-align: right;\">\n",
       "      <th></th>\n",
       "      <th>model</th>\n",
       "      <th>msle</th>\n",
       "      <th>mape</th>\n",
       "      <th>mae</th>\n",
       "    </tr>\n",
       "  </thead>\n",
       "  <tbody>\n",
       "    <tr>\n",
       "      <th>0</th>\n",
       "      <td>Linear Regression + Transform Target Regressor</td>\n",
       "      <td>-0.197953</td>\n",
       "      <td>-0.338251</td>\n",
       "      <td>-57980.132669</td>\n",
       "    </tr>\n",
       "    <tr>\n",
       "      <th>1</th>\n",
       "      <td>Lasso + Transform Target Regressor</td>\n",
       "      <td>-0.390783</td>\n",
       "      <td>-0.514514</td>\n",
       "      <td>-77621.763411</td>\n",
       "    </tr>\n",
       "    <tr>\n",
       "      <th>2</th>\n",
       "      <td>Ridge + Transform Target Regressor</td>\n",
       "      <td>-0.197887</td>\n",
       "      <td>-0.338166</td>\n",
       "      <td>-57998.220484</td>\n",
       "    </tr>\n",
       "    <tr>\n",
       "      <th>3</th>\n",
       "      <td>Elastic Net + Transform Target Regressor</td>\n",
       "      <td>-0.390783</td>\n",
       "      <td>-0.514514</td>\n",
       "      <td>-77621.763411</td>\n",
       "    </tr>\n",
       "    <tr>\n",
       "      <th>4</th>\n",
       "      <td>KNN + Transform Target Regressor</td>\n",
       "      <td>-0.096253</td>\n",
       "      <td>-0.238138</td>\n",
       "      <td>-40705.963217</td>\n",
       "    </tr>\n",
       "    <tr>\n",
       "      <th>5</th>\n",
       "      <td>Decision Tree + Transform Target Regressor</td>\n",
       "      <td>-0.182149</td>\n",
       "      <td>-0.323036</td>\n",
       "      <td>-60130.225978</td>\n",
       "    </tr>\n",
       "    <tr>\n",
       "      <th>6</th>\n",
       "      <td>Random Forest + Transform Target Regressor</td>\n",
       "      <td>-0.091103</td>\n",
       "      <td>-0.213712</td>\n",
       "      <td>-41375.916866</td>\n",
       "    </tr>\n",
       "    <tr>\n",
       "      <th>7</th>\n",
       "      <td>XGBoost + Transform Target Regressor</td>\n",
       "      <td>-0.072485</td>\n",
       "      <td>-0.191868</td>\n",
       "      <td>-35784.690124</td>\n",
       "    </tr>\n",
       "    <tr>\n",
       "      <th>8</th>\n",
       "      <td>Linear Regression</td>\n",
       "      <td>NaN</td>\n",
       "      <td>-0.496687</td>\n",
       "      <td>-59498.133088</td>\n",
       "    </tr>\n",
       "    <tr>\n",
       "      <th>9</th>\n",
       "      <td>Lasso</td>\n",
       "      <td>NaN</td>\n",
       "      <td>-0.496646</td>\n",
       "      <td>-59497.615998</td>\n",
       "    </tr>\n",
       "    <tr>\n",
       "      <th>10</th>\n",
       "      <td>Ridge</td>\n",
       "      <td>NaN</td>\n",
       "      <td>-0.496269</td>\n",
       "      <td>-59491.407760</td>\n",
       "    </tr>\n",
       "    <tr>\n",
       "      <th>11</th>\n",
       "      <td>Elastic Net</td>\n",
       "      <td>NaN</td>\n",
       "      <td>-0.543018</td>\n",
       "      <td>-64438.651925</td>\n",
       "    </tr>\n",
       "    <tr>\n",
       "      <th>12</th>\n",
       "      <td>KNN</td>\n",
       "      <td>-0.106531</td>\n",
       "      <td>-0.266651</td>\n",
       "      <td>-40506.637559</td>\n",
       "    </tr>\n",
       "    <tr>\n",
       "      <th>13</th>\n",
       "      <td>Decision Tree</td>\n",
       "      <td>-0.182512</td>\n",
       "      <td>-0.319297</td>\n",
       "      <td>-54607.983852</td>\n",
       "    </tr>\n",
       "    <tr>\n",
       "      <th>14</th>\n",
       "      <td>Random Forest</td>\n",
       "      <td>-0.106073</td>\n",
       "      <td>-0.262797</td>\n",
       "      <td>-41623.798841</td>\n",
       "    </tr>\n",
       "    <tr>\n",
       "      <th>15</th>\n",
       "      <td>XGBoost</td>\n",
       "      <td>NaN</td>\n",
       "      <td>-0.242427</td>\n",
       "      <td>-37759.117062</td>\n",
       "    </tr>\n",
       "  </tbody>\n",
       "</table>\n",
       "</div>"
      ],
      "text/plain": [
       "                                             model      msle      mape  \\\n",
       "0   Linear Regression + Transform Target Regressor -0.197953 -0.338251   \n",
       "1   Lasso + Transform Target Regressor             -0.390783 -0.514514   \n",
       "2   Ridge + Transform Target Regressor             -0.197887 -0.338166   \n",
       "3   Elastic Net + Transform Target Regressor       -0.390783 -0.514514   \n",
       "4   KNN + Transform Target Regressor               -0.096253 -0.238138   \n",
       "5   Decision Tree + Transform Target Regressor     -0.182149 -0.323036   \n",
       "6   Random Forest + Transform Target Regressor     -0.091103 -0.213712   \n",
       "7   XGBoost + Transform Target Regressor           -0.072485 -0.191868   \n",
       "8   Linear Regression                              NaN       -0.496687   \n",
       "9   Lasso                                          NaN       -0.496646   \n",
       "10  Ridge                                          NaN       -0.496269   \n",
       "11  Elastic Net                                    NaN       -0.543018   \n",
       "12  KNN                                            -0.106531 -0.266651   \n",
       "13  Decision Tree                                  -0.182512 -0.319297   \n",
       "14  Random Forest                                  -0.106073 -0.262797   \n",
       "15  XGBoost                                        NaN       -0.242427   \n",
       "\n",
       "             mae  \n",
       "0  -57980.132669  \n",
       "1  -77621.763411  \n",
       "2  -57998.220484  \n",
       "3  -77621.763411  \n",
       "4  -40705.963217  \n",
       "5  -60130.225978  \n",
       "6  -41375.916866  \n",
       "7  -35784.690124  \n",
       "8  -59498.133088  \n",
       "9  -59497.615998  \n",
       "10 -59491.407760  \n",
       "11 -64438.651925  \n",
       "12 -40506.637559  \n",
       "13 -54607.983852  \n",
       "14 -41623.798841  \n",
       "15 -37759.117062  "
      ]
     },
     "execution_count": 28,
     "metadata": {},
     "output_type": "execute_result"
    }
   ],
   "source": [
    "from sklearn.compose import TransformedTargetRegressor\n",
    "from sklearn.model_selection import cross_validate\n",
    "\n",
    "linreg = LinearRegression()\n",
    "lasso = Lasso()\n",
    "ridge = Ridge()\n",
    "enet = ElasticNet()\n",
    "knn = KNeighborsRegressor()\n",
    "dt = DecisionTreeRegressor(random_state=42)\n",
    "rf = RandomForestRegressor(random_state=42)\n",
    "xgb = XGBRegressor(random_state=42)\n",
    "\n",
    "models = {\n",
    "    'Linear Regression': linreg,\n",
    "    'Lasso': lasso,\n",
    "    'Ridge': ridge,\n",
    "    'Elastic Net': enet,\n",
    "    'KNN': knn,\n",
    "    'Decision Tree': dt,\n",
    "    'Random Forest': rf,\n",
    "    'XGBoost': xgb,\n",
    "}\n",
    "\n",
    "metrics = {'msle': 'neg_mean_squared_log_error',\n",
    "           'mape': 'neg_mean_absolute_percentage_error',\n",
    "           'mae': 'neg_root_mean_squared_error'}\n",
    "\n",
    "test_msle_arr = []    \n",
    "test_mape_arr = []\n",
    "test_mae_arr = []\n",
    "list_algo = []\n",
    "\n",
    "for name_model, model in models.items():\n",
    "    model_ttr = TransformedTargetRegressor(model, func=np.log, inverse_func=np.exp)\n",
    "    estimator = Pipeline([\n",
    "        ('transform', transformer),\n",
    "        ('model', model_ttr)\n",
    "    ])\n",
    "    list_algo.append(f'{name_model} + Transform Target Regressor')\n",
    "    scores = cross_validate(estimator, X_train, y_train,cv=5, scoring=metrics)\n",
    "    test_msle_arr.append(scores['test_msle'].mean())\n",
    "    test_mape_arr.append(scores['test_mape'].mean())\n",
    "    test_mae_arr.append(scores['test_mae'].mean())\n",
    "\n",
    "for name_model, model in models.items():\n",
    "    estimator = Pipeline([\n",
    "        ('transform', transformer),\n",
    "        ('model', model)\n",
    "    ])\n",
    "    list_algo.append(name_model)\n",
    "    scores = cross_validate(estimator, X_train, y_train,cv=5, scoring=metrics)\n",
    "    test_msle_arr.append(scores['test_msle'].mean())\n",
    "    test_mape_arr.append(scores['test_mape'].mean())\n",
    "    test_mae_arr.append(scores['test_mae'].mean())\n",
    "\n",
    "model_bench = pd.DataFrame({\n",
    "    'model': list_algo,\n",
    "    'msle': test_msle_arr,\n",
    "    'mape': test_mape_arr,\n",
    "    'mae': test_mae_arr,\n",
    "})\n",
    "\n",
    "model_bench"
   ]
  },
  {
   "cell_type": "markdown",
   "metadata": {},
   "source": [
    "Here we use the MAPE metric to facilitate presenting error rates in percentage form. When observed, the MAPE levels of the top 2 models from table below are not significantly different, as are their MSLE and MAE. With the lowest MAPE rate, the XGBoost and Transform Target Regressor models are the top-performing models"
   ]
  },
  {
   "cell_type": "code",
   "execution_count": 29,
   "metadata": {},
   "outputs": [
    {
     "data": {
      "text/html": [
       "<div>\n",
       "<style scoped>\n",
       "    .dataframe tbody tr th:only-of-type {\n",
       "        vertical-align: middle;\n",
       "    }\n",
       "\n",
       "    .dataframe tbody tr th {\n",
       "        vertical-align: top;\n",
       "    }\n",
       "\n",
       "    .dataframe thead th {\n",
       "        text-align: right;\n",
       "    }\n",
       "</style>\n",
       "<table border=\"1\" class=\"dataframe\">\n",
       "  <thead>\n",
       "    <tr style=\"text-align: right;\">\n",
       "      <th></th>\n",
       "      <th>model</th>\n",
       "      <th>msle</th>\n",
       "      <th>mape</th>\n",
       "      <th>mae</th>\n",
       "    </tr>\n",
       "  </thead>\n",
       "  <tbody>\n",
       "    <tr>\n",
       "      <th>7</th>\n",
       "      <td>XGBoost + Transform Target Regressor</td>\n",
       "      <td>-0.072485</td>\n",
       "      <td>-0.191868</td>\n",
       "      <td>-35784.690124</td>\n",
       "    </tr>\n",
       "    <tr>\n",
       "      <th>6</th>\n",
       "      <td>Random Forest + Transform Target Regressor</td>\n",
       "      <td>-0.091103</td>\n",
       "      <td>-0.213712</td>\n",
       "      <td>-41375.916866</td>\n",
       "    </tr>\n",
       "    <tr>\n",
       "      <th>4</th>\n",
       "      <td>KNN + Transform Target Regressor</td>\n",
       "      <td>-0.096253</td>\n",
       "      <td>-0.238138</td>\n",
       "      <td>-40705.963217</td>\n",
       "    </tr>\n",
       "    <tr>\n",
       "      <th>15</th>\n",
       "      <td>XGBoost</td>\n",
       "      <td>NaN</td>\n",
       "      <td>-0.242427</td>\n",
       "      <td>-37759.117062</td>\n",
       "    </tr>\n",
       "    <tr>\n",
       "      <th>14</th>\n",
       "      <td>Random Forest</td>\n",
       "      <td>-0.106073</td>\n",
       "      <td>-0.262797</td>\n",
       "      <td>-41623.798841</td>\n",
       "    </tr>\n",
       "    <tr>\n",
       "      <th>12</th>\n",
       "      <td>KNN</td>\n",
       "      <td>-0.106531</td>\n",
       "      <td>-0.266651</td>\n",
       "      <td>-40506.637559</td>\n",
       "    </tr>\n",
       "    <tr>\n",
       "      <th>13</th>\n",
       "      <td>Decision Tree</td>\n",
       "      <td>-0.182512</td>\n",
       "      <td>-0.319297</td>\n",
       "      <td>-54607.983852</td>\n",
       "    </tr>\n",
       "    <tr>\n",
       "      <th>5</th>\n",
       "      <td>Decision Tree + Transform Target Regressor</td>\n",
       "      <td>-0.182149</td>\n",
       "      <td>-0.323036</td>\n",
       "      <td>-60130.225978</td>\n",
       "    </tr>\n",
       "    <tr>\n",
       "      <th>2</th>\n",
       "      <td>Ridge + Transform Target Regressor</td>\n",
       "      <td>-0.197887</td>\n",
       "      <td>-0.338166</td>\n",
       "      <td>-57998.220484</td>\n",
       "    </tr>\n",
       "    <tr>\n",
       "      <th>0</th>\n",
       "      <td>Linear Regression + Transform Target Regressor</td>\n",
       "      <td>-0.197953</td>\n",
       "      <td>-0.338251</td>\n",
       "      <td>-57980.132669</td>\n",
       "    </tr>\n",
       "    <tr>\n",
       "      <th>10</th>\n",
       "      <td>Ridge</td>\n",
       "      <td>NaN</td>\n",
       "      <td>-0.496269</td>\n",
       "      <td>-59491.407760</td>\n",
       "    </tr>\n",
       "    <tr>\n",
       "      <th>9</th>\n",
       "      <td>Lasso</td>\n",
       "      <td>NaN</td>\n",
       "      <td>-0.496646</td>\n",
       "      <td>-59497.615998</td>\n",
       "    </tr>\n",
       "    <tr>\n",
       "      <th>8</th>\n",
       "      <td>Linear Regression</td>\n",
       "      <td>NaN</td>\n",
       "      <td>-0.496687</td>\n",
       "      <td>-59498.133088</td>\n",
       "    </tr>\n",
       "    <tr>\n",
       "      <th>1</th>\n",
       "      <td>Lasso + Transform Target Regressor</td>\n",
       "      <td>-0.390783</td>\n",
       "      <td>-0.514514</td>\n",
       "      <td>-77621.763411</td>\n",
       "    </tr>\n",
       "    <tr>\n",
       "      <th>3</th>\n",
       "      <td>Elastic Net + Transform Target Regressor</td>\n",
       "      <td>-0.390783</td>\n",
       "      <td>-0.514514</td>\n",
       "      <td>-77621.763411</td>\n",
       "    </tr>\n",
       "    <tr>\n",
       "      <th>11</th>\n",
       "      <td>Elastic Net</td>\n",
       "      <td>NaN</td>\n",
       "      <td>-0.543018</td>\n",
       "      <td>-64438.651925</td>\n",
       "    </tr>\n",
       "  </tbody>\n",
       "</table>\n",
       "</div>"
      ],
      "text/plain": [
       "                                             model      msle      mape  \\\n",
       "7   XGBoost + Transform Target Regressor           -0.072485 -0.191868   \n",
       "6   Random Forest + Transform Target Regressor     -0.091103 -0.213712   \n",
       "4   KNN + Transform Target Regressor               -0.096253 -0.238138   \n",
       "15  XGBoost                                        NaN       -0.242427   \n",
       "14  Random Forest                                  -0.106073 -0.262797   \n",
       "12  KNN                                            -0.106531 -0.266651   \n",
       "13  Decision Tree                                  -0.182512 -0.319297   \n",
       "5   Decision Tree + Transform Target Regressor     -0.182149 -0.323036   \n",
       "2   Ridge + Transform Target Regressor             -0.197887 -0.338166   \n",
       "0   Linear Regression + Transform Target Regressor -0.197953 -0.338251   \n",
       "10  Ridge                                          NaN       -0.496269   \n",
       "9   Lasso                                          NaN       -0.496646   \n",
       "8   Linear Regression                              NaN       -0.496687   \n",
       "1   Lasso + Transform Target Regressor             -0.390783 -0.514514   \n",
       "3   Elastic Net + Transform Target Regressor       -0.390783 -0.514514   \n",
       "11  Elastic Net                                    NaN       -0.543018   \n",
       "\n",
       "             mae  \n",
       "7  -35784.690124  \n",
       "6  -41375.916866  \n",
       "4  -40705.963217  \n",
       "15 -37759.117062  \n",
       "14 -41623.798841  \n",
       "12 -40506.637559  \n",
       "13 -54607.983852  \n",
       "5  -60130.225978  \n",
       "2  -57998.220484  \n",
       "0  -57980.132669  \n",
       "10 -59491.407760  \n",
       "9  -59497.615998  \n",
       "8  -59498.133088  \n",
       "1  -77621.763411  \n",
       "3  -77621.763411  \n",
       "11 -64438.651925  "
      ]
     },
     "execution_count": 29,
     "metadata": {},
     "output_type": "execute_result"
    }
   ],
   "source": [
    "model_bench.sort_values('mape', ascending=False)"
   ]
  },
  {
   "cell_type": "markdown",
   "metadata": {},
   "source": [
    "After benchmarking the models and sorting them, it turns out that XGBoost and the transformed target regressor have the lowest MAPE rates. This indicates that both methods provide better prediction performance compared to other models. \n",
    "\n",
    "Next, predictions will be made on the test set using the best benchmark models, namely XGBoost and Transform Target Regressor."
   ]
  },
  {
   "cell_type": "markdown",
   "metadata": {},
   "source": [
    "#### **Predict to Test Set**\n",
    "The predictions on the test set using the XGBoost and Transform Target Regressor models."
   ]
  },
  {
   "cell_type": "code",
   "execution_count": 30,
   "metadata": {},
   "outputs": [
    {
     "data": {
      "text/html": [
       "<div>\n",
       "<style scoped>\n",
       "    .dataframe tbody tr th:only-of-type {\n",
       "        vertical-align: middle;\n",
       "    }\n",
       "\n",
       "    .dataframe tbody tr th {\n",
       "        vertical-align: top;\n",
       "    }\n",
       "\n",
       "    .dataframe thead th {\n",
       "        text-align: right;\n",
       "    }\n",
       "</style>\n",
       "<table border=\"1\" class=\"dataframe\">\n",
       "  <thead>\n",
       "    <tr style=\"text-align: right;\">\n",
       "      <th></th>\n",
       "      <th>RMSLE</th>\n",
       "      <th>MAE</th>\n",
       "      <th>MAPE</th>\n",
       "    </tr>\n",
       "  </thead>\n",
       "  <tbody>\n",
       "    <tr>\n",
       "      <th>XGboost + Transform Target Regressor before tuning</th>\n",
       "      <td>0.242227</td>\n",
       "      <td>16202.243956</td>\n",
       "      <td>0.181066</td>\n",
       "    </tr>\n",
       "  </tbody>\n",
       "</table>\n",
       "</div>"
      ],
      "text/plain": [
       "                                                       RMSLE           MAE  \\\n",
       "XGboost + Transform Target Regressor before tuning  0.242227  16202.243956   \n",
       "\n",
       "                                                        MAPE  \n",
       "XGboost + Transform Target Regressor before tuning  0.181066  "
      ]
     },
     "execution_count": 30,
     "metadata": {},
     "output_type": "execute_result"
    }
   ],
   "source": [
    "xgb = XGBRegressor(random_state=42)\n",
    "xgb_ttr = TransformedTargetRegressor(xgb, func=np.log, inverse_func=np.exp)\n",
    "model = Pipeline([\n",
    "    ('transform', transformer),\n",
    "    ('model', xgb_ttr)\n",
    "])\n",
    "\n",
    "score_rmsle = []\n",
    "score_mae = []\n",
    "score_mape = []\n",
    "\n",
    "model.fit(X_train, y_train)\n",
    "y_pred = model.predict(X_test)\n",
    "score_rmsle.append(mean_squared_log_error(y_test, y_pred, squared=False))\n",
    "score_mae.append(mean_absolute_error(y_test, y_pred))\n",
    "score_mape.append(mean_absolute_percentage_error(y_test, y_pred))\n",
    "\n",
    "\n",
    "score_before_tuning = pd.DataFrame({'RMSLE': score_rmsle, \n",
    "                                    'MAE': score_mae, \n",
    "                                    'MAPE': score_mape}, \n",
    "                                    index=['XGboost + Transform Target Regressor before tuning'])\n",
    "score_before_tuning"
   ]
  },
  {
   "cell_type": "markdown",
   "metadata": {},
   "source": [
    "After predicting on the test set, the MAPE decreased, indicating that the XGBoost + Transform Target Regressor model is indeed the best-performing model compared to others."
   ]
  },
  {
   "cell_type": "markdown",
   "metadata": {},
   "source": [
    "**XGBoost and Transform Target Regressor**"
   ]
  },
  {
   "cell_type": "markdown",
   "metadata": {},
   "source": [
    "In the context of predicting used car prices, XGBoost's ability to focus on challenging samples, such as cars with uncommon characteristics, makes it an ideal choice. XGBoost is a powerful machine learning algorithm that employs ensemble tree boosting techniques to construct a series of decision trees, enhancing predictions, particularly for challenging samples. It applies regularization and efficiently combines the results from these trees for the final prediction. With its robustness in handling missing values and a plethora of customizable parameters, XGBoost has become a widely favored tool in diverse modeling tasks.\n",
    "\n",
    "Given the presence of numerous outliers in our data, Transform Target Regressor becomes a crucial support in model development as it proves reliable in handling outlier-rich datasets."
   ]
  },
  {
   "cell_type": "markdown",
   "metadata": {},
   "source": [
    "#### **Hyperparameter Tuning**\n",
    "At this stage, we will perform hyperparameter tuning on the XGBoost model with the expectation of enhancing model performance."
   ]
  },
  {
   "cell_type": "code",
   "execution_count": 31,
   "metadata": {},
   "outputs": [
    {
     "name": "stdout",
     "output_type": "stream",
     "text": [
      "Fitting 5 folds for each of 150 candidates, totalling 750 fits\n"
     ]
    },
    {
     "data": {
      "text/html": [
       "<style>#sk-container-id-2 {color: black;}#sk-container-id-2 pre{padding: 0;}#sk-container-id-2 div.sk-toggleable {background-color: white;}#sk-container-id-2 label.sk-toggleable__label {cursor: pointer;display: block;width: 100%;margin-bottom: 0;padding: 0.3em;box-sizing: border-box;text-align: center;}#sk-container-id-2 label.sk-toggleable__label-arrow:before {content: \"▸\";float: left;margin-right: 0.25em;color: #696969;}#sk-container-id-2 label.sk-toggleable__label-arrow:hover:before {color: black;}#sk-container-id-2 div.sk-estimator:hover label.sk-toggleable__label-arrow:before {color: black;}#sk-container-id-2 div.sk-toggleable__content {max-height: 0;max-width: 0;overflow: hidden;text-align: left;background-color: #f0f8ff;}#sk-container-id-2 div.sk-toggleable__content pre {margin: 0.2em;color: black;border-radius: 0.25em;background-color: #f0f8ff;}#sk-container-id-2 input.sk-toggleable__control:checked~div.sk-toggleable__content {max-height: 200px;max-width: 100%;overflow: auto;}#sk-container-id-2 input.sk-toggleable__control:checked~label.sk-toggleable__label-arrow:before {content: \"▾\";}#sk-container-id-2 div.sk-estimator input.sk-toggleable__control:checked~label.sk-toggleable__label {background-color: #d4ebff;}#sk-container-id-2 div.sk-label input.sk-toggleable__control:checked~label.sk-toggleable__label {background-color: #d4ebff;}#sk-container-id-2 input.sk-hidden--visually {border: 0;clip: rect(1px 1px 1px 1px);clip: rect(1px, 1px, 1px, 1px);height: 1px;margin: -1px;overflow: hidden;padding: 0;position: absolute;width: 1px;}#sk-container-id-2 div.sk-estimator {font-family: monospace;background-color: #f0f8ff;border: 1px dotted black;border-radius: 0.25em;box-sizing: border-box;margin-bottom: 0.5em;}#sk-container-id-2 div.sk-estimator:hover {background-color: #d4ebff;}#sk-container-id-2 div.sk-parallel-item::after {content: \"\";width: 100%;border-bottom: 1px solid gray;flex-grow: 1;}#sk-container-id-2 div.sk-label:hover label.sk-toggleable__label {background-color: #d4ebff;}#sk-container-id-2 div.sk-serial::before {content: \"\";position: absolute;border-left: 1px solid gray;box-sizing: border-box;top: 0;bottom: 0;left: 50%;z-index: 0;}#sk-container-id-2 div.sk-serial {display: flex;flex-direction: column;align-items: center;background-color: white;padding-right: 0.2em;padding-left: 0.2em;position: relative;}#sk-container-id-2 div.sk-item {position: relative;z-index: 1;}#sk-container-id-2 div.sk-parallel {display: flex;align-items: stretch;justify-content: center;background-color: white;position: relative;}#sk-container-id-2 div.sk-item::before, #sk-container-id-2 div.sk-parallel-item::before {content: \"\";position: absolute;border-left: 1px solid gray;box-sizing: border-box;top: 0;bottom: 0;left: 50%;z-index: -1;}#sk-container-id-2 div.sk-parallel-item {display: flex;flex-direction: column;z-index: 1;position: relative;background-color: white;}#sk-container-id-2 div.sk-parallel-item:first-child::after {align-self: flex-end;width: 50%;}#sk-container-id-2 div.sk-parallel-item:last-child::after {align-self: flex-start;width: 50%;}#sk-container-id-2 div.sk-parallel-item:only-child::after {width: 0;}#sk-container-id-2 div.sk-dashed-wrapped {border: 1px dashed gray;margin: 0 0.4em 0.5em 0.4em;box-sizing: border-box;padding-bottom: 0.4em;background-color: white;}#sk-container-id-2 div.sk-label label {font-family: monospace;font-weight: bold;display: inline-block;line-height: 1.2em;}#sk-container-id-2 div.sk-label-container {text-align: center;}#sk-container-id-2 div.sk-container {/* jupyter's `normalize.less` sets `[hidden] { display: none; }` but bootstrap.min.css set `[hidden] { display: none !important; }` so we also need the `!important` here to be able to override the default hidden behavior on the sphinx rendered scikit-learn.org. See: https://github.com/scikit-learn/scikit-learn/issues/21755 */display: inline-block !important;position: relative;}#sk-container-id-2 div.sk-text-repr-fallback {display: none;}</style><div id=\"sk-container-id-2\" class=\"sk-top-container\"><div class=\"sk-text-repr-fallback\"><pre>RandomizedSearchCV(cv=5,\n",
       "                   estimator=Pipeline(steps=[(&#x27;transform&#x27;,\n",
       "                                              ColumnTransformer(remainder=&#x27;passthrough&#x27;,\n",
       "                                                                transformers=[(&#x27;binary&#x27;,\n",
       "                                                                               BinaryEncoder(cols=[&#x27;Model&#x27;,\n",
       "                                                                                                   &#x27;Region&#x27;,\n",
       "                                                                                                   &#x27;Brand&#x27;]),\n",
       "                                                                               [&#x27;Model&#x27;,\n",
       "                                                                                &#x27;Region&#x27;,\n",
       "                                                                                &#x27;Brand&#x27;]),\n",
       "                                                                              (&#x27;onehot&#x27;,\n",
       "                                                                               OneHotEncoder(drop=&#x27;first&#x27;),\n",
       "                                                                               [&#x27;Gear_Type&#x27;,\n",
       "                                                                                &#x27;Origin&#x27;,\n",
       "                                                                                &#x27;Features&#x27;]),\n",
       "                                                                              (&#x27;robust&#x27;,\n",
       "                                                                               RobustScaler(),\n",
       "                                                                               [&#x27;Year&#x27;,\n",
       "                                                                                &#x27;Engine_Size&#x27;,\n",
       "                                                                                &#x27;Mileage&#x27;])])),\n",
       "                                             (&#x27;model&#x27;,\n",
       "                                              Tr...\n",
       "                                                                               1.0],\n",
       "                                        &#x27;model__regressor__gamma&#x27;: [0, 0.1, 0.2,\n",
       "                                                                    0.3, 0.4],\n",
       "                                        &#x27;model__regressor__learning_rate&#x27;: [0.01,\n",
       "                                                                            0.1,\n",
       "                                                                            0.2,\n",
       "                                                                            0.3,\n",
       "                                                                            0.5],\n",
       "                                        &#x27;model__regressor__max_depth&#x27;: range(3, 11),\n",
       "                                        &#x27;model__regressor__min_child_weight&#x27;: [1,\n",
       "                                                                               3,\n",
       "                                                                               5,\n",
       "                                                                               7],\n",
       "                                        &#x27;model__regressor__n_estimators&#x27;: range(50, 251, 50),\n",
       "                                        &#x27;model__regressor__subsample&#x27;: [0.7,\n",
       "                                                                        0.8,\n",
       "                                                                        0.9,\n",
       "                                                                        1.0]},\n",
       "                   scoring=&#x27;neg_mean_absolute_percentage_error&#x27;, verbose=2)</pre><b>In a Jupyter environment, please rerun this cell to show the HTML representation or trust the notebook. <br />On GitHub, the HTML representation is unable to render, please try loading this page with nbviewer.org.</b></div><div class=\"sk-container\" hidden><div class=\"sk-item sk-dashed-wrapped\"><div class=\"sk-label-container\"><div class=\"sk-label sk-toggleable\"><input class=\"sk-toggleable__control sk-hidden--visually\" id=\"sk-estimator-id-10\" type=\"checkbox\" ><label for=\"sk-estimator-id-10\" class=\"sk-toggleable__label sk-toggleable__label-arrow\">RandomizedSearchCV</label><div class=\"sk-toggleable__content\"><pre>RandomizedSearchCV(cv=5,\n",
       "                   estimator=Pipeline(steps=[(&#x27;transform&#x27;,\n",
       "                                              ColumnTransformer(remainder=&#x27;passthrough&#x27;,\n",
       "                                                                transformers=[(&#x27;binary&#x27;,\n",
       "                                                                               BinaryEncoder(cols=[&#x27;Model&#x27;,\n",
       "                                                                                                   &#x27;Region&#x27;,\n",
       "                                                                                                   &#x27;Brand&#x27;]),\n",
       "                                                                               [&#x27;Model&#x27;,\n",
       "                                                                                &#x27;Region&#x27;,\n",
       "                                                                                &#x27;Brand&#x27;]),\n",
       "                                                                              (&#x27;onehot&#x27;,\n",
       "                                                                               OneHotEncoder(drop=&#x27;first&#x27;),\n",
       "                                                                               [&#x27;Gear_Type&#x27;,\n",
       "                                                                                &#x27;Origin&#x27;,\n",
       "                                                                                &#x27;Features&#x27;]),\n",
       "                                                                              (&#x27;robust&#x27;,\n",
       "                                                                               RobustScaler(),\n",
       "                                                                               [&#x27;Year&#x27;,\n",
       "                                                                                &#x27;Engine_Size&#x27;,\n",
       "                                                                                &#x27;Mileage&#x27;])])),\n",
       "                                             (&#x27;model&#x27;,\n",
       "                                              Tr...\n",
       "                                                                               1.0],\n",
       "                                        &#x27;model__regressor__gamma&#x27;: [0, 0.1, 0.2,\n",
       "                                                                    0.3, 0.4],\n",
       "                                        &#x27;model__regressor__learning_rate&#x27;: [0.01,\n",
       "                                                                            0.1,\n",
       "                                                                            0.2,\n",
       "                                                                            0.3,\n",
       "                                                                            0.5],\n",
       "                                        &#x27;model__regressor__max_depth&#x27;: range(3, 11),\n",
       "                                        &#x27;model__regressor__min_child_weight&#x27;: [1,\n",
       "                                                                               3,\n",
       "                                                                               5,\n",
       "                                                                               7],\n",
       "                                        &#x27;model__regressor__n_estimators&#x27;: range(50, 251, 50),\n",
       "                                        &#x27;model__regressor__subsample&#x27;: [0.7,\n",
       "                                                                        0.8,\n",
       "                                                                        0.9,\n",
       "                                                                        1.0]},\n",
       "                   scoring=&#x27;neg_mean_absolute_percentage_error&#x27;, verbose=2)</pre></div></div></div><div class=\"sk-parallel\"><div class=\"sk-parallel-item\"><div class=\"sk-item\"><div class=\"sk-label-container\"><div class=\"sk-label sk-toggleable\"><input class=\"sk-toggleable__control sk-hidden--visually\" id=\"sk-estimator-id-11\" type=\"checkbox\" ><label for=\"sk-estimator-id-11\" class=\"sk-toggleable__label sk-toggleable__label-arrow\">estimator: Pipeline</label><div class=\"sk-toggleable__content\"><pre>Pipeline(steps=[(&#x27;transform&#x27;,\n",
       "                 ColumnTransformer(remainder=&#x27;passthrough&#x27;,\n",
       "                                   transformers=[(&#x27;binary&#x27;,\n",
       "                                                  BinaryEncoder(cols=[&#x27;Model&#x27;,\n",
       "                                                                      &#x27;Region&#x27;,\n",
       "                                                                      &#x27;Brand&#x27;]),\n",
       "                                                  [&#x27;Model&#x27;, &#x27;Region&#x27;, &#x27;Brand&#x27;]),\n",
       "                                                 (&#x27;onehot&#x27;,\n",
       "                                                  OneHotEncoder(drop=&#x27;first&#x27;),\n",
       "                                                  [&#x27;Gear_Type&#x27;, &#x27;Origin&#x27;,\n",
       "                                                   &#x27;Features&#x27;]),\n",
       "                                                 (&#x27;robust&#x27;, RobustScaler(),\n",
       "                                                  [&#x27;Year&#x27;, &#x27;Engine_Size&#x27;,\n",
       "                                                   &#x27;Mileage&#x27;])])),\n",
       "                (&#x27;model&#x27;,\n",
       "                 TransformedTargetRegressor(func=&lt;ufu...\n",
       "                                                                   gpu_id=None,\n",
       "                                                                   grow_policy=None,\n",
       "                                                                   importance_type=None,\n",
       "                                                                   interaction_constraints=None,\n",
       "                                                                   learning_rate=None,\n",
       "                                                                   max_bin=None,\n",
       "                                                                   max_cat_threshold=None,\n",
       "                                                                   max_cat_to_onehot=None,\n",
       "                                                                   max_delta_step=None,\n",
       "                                                                   max_depth=None,\n",
       "                                                                   max_leaves=None,\n",
       "                                                                   min_child_weight=None,\n",
       "                                                                   missing=nan,\n",
       "                                                                   monotone_constraints=None,\n",
       "                                                                   n_estimators=100,\n",
       "                                                                   n_jobs=None,\n",
       "                                                                   num_parallel_tree=None,\n",
       "                                                                   predictor=None,\n",
       "                                                                   random_state=42, ...)))])</pre></div></div></div><div class=\"sk-serial\"><div class=\"sk-item\"><div class=\"sk-serial\"><div class=\"sk-item sk-dashed-wrapped\"><div class=\"sk-label-container\"><div class=\"sk-label sk-toggleable\"><input class=\"sk-toggleable__control sk-hidden--visually\" id=\"sk-estimator-id-12\" type=\"checkbox\" ><label for=\"sk-estimator-id-12\" class=\"sk-toggleable__label sk-toggleable__label-arrow\">transform: ColumnTransformer</label><div class=\"sk-toggleable__content\"><pre>ColumnTransformer(remainder=&#x27;passthrough&#x27;,\n",
       "                  transformers=[(&#x27;binary&#x27;,\n",
       "                                 BinaryEncoder(cols=[&#x27;Model&#x27;, &#x27;Region&#x27;,\n",
       "                                                     &#x27;Brand&#x27;]),\n",
       "                                 [&#x27;Model&#x27;, &#x27;Region&#x27;, &#x27;Brand&#x27;]),\n",
       "                                (&#x27;onehot&#x27;, OneHotEncoder(drop=&#x27;first&#x27;),\n",
       "                                 [&#x27;Gear_Type&#x27;, &#x27;Origin&#x27;, &#x27;Features&#x27;]),\n",
       "                                (&#x27;robust&#x27;, RobustScaler(),\n",
       "                                 [&#x27;Year&#x27;, &#x27;Engine_Size&#x27;, &#x27;Mileage&#x27;])])</pre></div></div></div><div class=\"sk-parallel\"><div class=\"sk-parallel-item\"><div class=\"sk-item\"><div class=\"sk-label-container\"><div class=\"sk-label sk-toggleable\"><input class=\"sk-toggleable__control sk-hidden--visually\" id=\"sk-estimator-id-13\" type=\"checkbox\" ><label for=\"sk-estimator-id-13\" class=\"sk-toggleable__label sk-toggleable__label-arrow\">binary</label><div class=\"sk-toggleable__content\"><pre>[&#x27;Model&#x27;, &#x27;Region&#x27;, &#x27;Brand&#x27;]</pre></div></div></div><div class=\"sk-serial\"><div class=\"sk-item\"><div class=\"sk-estimator sk-toggleable\"><input class=\"sk-toggleable__control sk-hidden--visually\" id=\"sk-estimator-id-14\" type=\"checkbox\" ><label for=\"sk-estimator-id-14\" class=\"sk-toggleable__label sk-toggleable__label-arrow\">BinaryEncoder</label><div class=\"sk-toggleable__content\"><pre>BinaryEncoder(cols=[&#x27;Model&#x27;, &#x27;Region&#x27;, &#x27;Brand&#x27;])</pre></div></div></div></div></div></div><div class=\"sk-parallel-item\"><div class=\"sk-item\"><div class=\"sk-label-container\"><div class=\"sk-label sk-toggleable\"><input class=\"sk-toggleable__control sk-hidden--visually\" id=\"sk-estimator-id-15\" type=\"checkbox\" ><label for=\"sk-estimator-id-15\" class=\"sk-toggleable__label sk-toggleable__label-arrow\">onehot</label><div class=\"sk-toggleable__content\"><pre>[&#x27;Gear_Type&#x27;, &#x27;Origin&#x27;, &#x27;Features&#x27;]</pre></div></div></div><div class=\"sk-serial\"><div class=\"sk-item\"><div class=\"sk-estimator sk-toggleable\"><input class=\"sk-toggleable__control sk-hidden--visually\" id=\"sk-estimator-id-16\" type=\"checkbox\" ><label for=\"sk-estimator-id-16\" class=\"sk-toggleable__label sk-toggleable__label-arrow\">OneHotEncoder</label><div class=\"sk-toggleable__content\"><pre>OneHotEncoder(drop=&#x27;first&#x27;)</pre></div></div></div></div></div></div><div class=\"sk-parallel-item\"><div class=\"sk-item\"><div class=\"sk-label-container\"><div class=\"sk-label sk-toggleable\"><input class=\"sk-toggleable__control sk-hidden--visually\" id=\"sk-estimator-id-17\" type=\"checkbox\" ><label for=\"sk-estimator-id-17\" class=\"sk-toggleable__label sk-toggleable__label-arrow\">robust</label><div class=\"sk-toggleable__content\"><pre>[&#x27;Year&#x27;, &#x27;Engine_Size&#x27;, &#x27;Mileage&#x27;]</pre></div></div></div><div class=\"sk-serial\"><div class=\"sk-item\"><div class=\"sk-estimator sk-toggleable\"><input class=\"sk-toggleable__control sk-hidden--visually\" id=\"sk-estimator-id-18\" type=\"checkbox\" ><label for=\"sk-estimator-id-18\" class=\"sk-toggleable__label sk-toggleable__label-arrow\">RobustScaler</label><div class=\"sk-toggleable__content\"><pre>RobustScaler()</pre></div></div></div></div></div></div><div class=\"sk-parallel-item\"><div class=\"sk-item\"><div class=\"sk-label-container\"><div class=\"sk-label sk-toggleable\"><input class=\"sk-toggleable__control sk-hidden--visually\" id=\"sk-estimator-id-19\" type=\"checkbox\" ><label for=\"sk-estimator-id-19\" class=\"sk-toggleable__label sk-toggleable__label-arrow\">remainder</label><div class=\"sk-toggleable__content\"><pre>[]</pre></div></div></div><div class=\"sk-serial\"><div class=\"sk-item\"><div class=\"sk-estimator sk-toggleable\"><input class=\"sk-toggleable__control sk-hidden--visually\" id=\"sk-estimator-id-20\" type=\"checkbox\" ><label for=\"sk-estimator-id-20\" class=\"sk-toggleable__label sk-toggleable__label-arrow\">passthrough</label><div class=\"sk-toggleable__content\"><pre>passthrough</pre></div></div></div></div></div></div></div></div><div class=\"sk-item sk-dashed-wrapped\"><div class=\"sk-label-container\"><div class=\"sk-label sk-toggleable\"><input class=\"sk-toggleable__control sk-hidden--visually\" id=\"sk-estimator-id-21\" type=\"checkbox\" ><label for=\"sk-estimator-id-21\" class=\"sk-toggleable__label sk-toggleable__label-arrow\">model: TransformedTargetRegressor</label><div class=\"sk-toggleable__content\"><pre>TransformedTargetRegressor(func=&lt;ufunc &#x27;log&#x27;&gt;, inverse_func=&lt;ufunc &#x27;exp&#x27;&gt;,\n",
       "                           regressor=XGBRegressor(base_score=None, booster=None,\n",
       "                                                  callbacks=None,\n",
       "                                                  colsample_bylevel=None,\n",
       "                                                  colsample_bynode=None,\n",
       "                                                  colsample_bytree=None,\n",
       "                                                  early_stopping_rounds=None,\n",
       "                                                  enable_categorical=False,\n",
       "                                                  eval_metric=None,\n",
       "                                                  feature_types=None,\n",
       "                                                  gamma=None, gpu_id=None,\n",
       "                                                  grow_policy=None,\n",
       "                                                  importance_type=None,\n",
       "                                                  interaction_constraints=None,\n",
       "                                                  learning_rate=None,\n",
       "                                                  max_bin=None,\n",
       "                                                  max_cat_threshold=None,\n",
       "                                                  max_cat_to_onehot=None,\n",
       "                                                  max_delta_step=None,\n",
       "                                                  max_depth=None,\n",
       "                                                  max_leaves=None,\n",
       "                                                  min_child_weight=None,\n",
       "                                                  missing=nan,\n",
       "                                                  monotone_constraints=None,\n",
       "                                                  n_estimators=100, n_jobs=None,\n",
       "                                                  num_parallel_tree=None,\n",
       "                                                  predictor=None,\n",
       "                                                  random_state=42, ...))</pre></div></div></div><div class=\"sk-parallel\"><div class=\"sk-parallel-item\"><div class=\"sk-item\"><div class=\"sk-label-container\"><div class=\"sk-label sk-toggleable\"><input class=\"sk-toggleable__control sk-hidden--visually\" id=\"sk-estimator-id-22\" type=\"checkbox\" ><label for=\"sk-estimator-id-22\" class=\"sk-toggleable__label sk-toggleable__label-arrow\">regressor: XGBRegressor</label><div class=\"sk-toggleable__content\"><pre>XGBRegressor(base_score=None, booster=None, callbacks=None,\n",
       "             colsample_bylevel=None, colsample_bynode=None,\n",
       "             colsample_bytree=None, early_stopping_rounds=None,\n",
       "             enable_categorical=False, eval_metric=None, feature_types=None,\n",
       "             gamma=None, gpu_id=None, grow_policy=None, importance_type=None,\n",
       "             interaction_constraints=None, learning_rate=None, max_bin=None,\n",
       "             max_cat_threshold=None, max_cat_to_onehot=None,\n",
       "             max_delta_step=None, max_depth=None, max_leaves=None,\n",
       "             min_child_weight=None, missing=nan, monotone_constraints=None,\n",
       "             n_estimators=100, n_jobs=None, num_parallel_tree=None,\n",
       "             predictor=None, random_state=42, ...)</pre></div></div></div><div class=\"sk-serial\"><div class=\"sk-item\"><div class=\"sk-estimator sk-toggleable\"><input class=\"sk-toggleable__control sk-hidden--visually\" id=\"sk-estimator-id-23\" type=\"checkbox\" ><label for=\"sk-estimator-id-23\" class=\"sk-toggleable__label sk-toggleable__label-arrow\">XGBRegressor</label><div class=\"sk-toggleable__content\"><pre>XGBRegressor(base_score=None, booster=None, callbacks=None,\n",
       "             colsample_bylevel=None, colsample_bynode=None,\n",
       "             colsample_bytree=None, early_stopping_rounds=None,\n",
       "             enable_categorical=False, eval_metric=None, feature_types=None,\n",
       "             gamma=None, gpu_id=None, grow_policy=None, importance_type=None,\n",
       "             interaction_constraints=None, learning_rate=None, max_bin=None,\n",
       "             max_cat_threshold=None, max_cat_to_onehot=None,\n",
       "             max_delta_step=None, max_depth=None, max_leaves=None,\n",
       "             min_child_weight=None, missing=nan, monotone_constraints=None,\n",
       "             n_estimators=100, n_jobs=None, num_parallel_tree=None,\n",
       "             predictor=None, random_state=42, ...)</pre></div></div></div></div></div></div></div></div></div></div></div></div></div></div></div></div></div>"
      ],
      "text/plain": [
       "RandomizedSearchCV(cv=5,\n",
       "                   estimator=Pipeline(steps=[('transform',\n",
       "                                              ColumnTransformer(remainder='passthrough',\n",
       "                                                                transformers=[('binary',\n",
       "                                                                               BinaryEncoder(cols=['Model',\n",
       "                                                                                                   'Region',\n",
       "                                                                                                   'Brand']),\n",
       "                                                                               ['Model',\n",
       "                                                                                'Region',\n",
       "                                                                                'Brand']),\n",
       "                                                                              ('onehot',\n",
       "                                                                               OneHotEncoder(drop='first'),\n",
       "                                                                               ['Gear_Type',\n",
       "                                                                                'Origin',\n",
       "                                                                                'Features']),\n",
       "                                                                              ('robust',\n",
       "                                                                               RobustScaler(),\n",
       "                                                                               ['Year',\n",
       "                                                                                'Engine_Size',\n",
       "                                                                                'Mileage'])])),\n",
       "                                             ('model',\n",
       "                                              Tr...\n",
       "                                                                               1.0],\n",
       "                                        'model__regressor__gamma': [0, 0.1, 0.2,\n",
       "                                                                    0.3, 0.4],\n",
       "                                        'model__regressor__learning_rate': [0.01,\n",
       "                                                                            0.1,\n",
       "                                                                            0.2,\n",
       "                                                                            0.3,\n",
       "                                                                            0.5],\n",
       "                                        'model__regressor__max_depth': range(3, 11),\n",
       "                                        'model__regressor__min_child_weight': [1,\n",
       "                                                                               3,\n",
       "                                                                               5,\n",
       "                                                                               7],\n",
       "                                        'model__regressor__n_estimators': range(50, 251, 50),\n",
       "                                        'model__regressor__subsample': [0.7,\n",
       "                                                                        0.8,\n",
       "                                                                        0.9,\n",
       "                                                                        1.0]},\n",
       "                   scoring='neg_mean_absolute_percentage_error', verbose=2)"
      ]
     },
     "execution_count": 31,
     "metadata": {},
     "output_type": "execute_result"
    }
   ],
   "source": [
    "from sklearn.model_selection import RandomizedSearchCV\n",
    "\n",
    "# Define the hyperparameter space\n",
    "param_space = {\n",
    "    'model__regressor__n_estimators': range(50, 251, 50),  # Number of boosting rounds\n",
    "    'model__regressor__max_depth': range(3, 11),           # Maximum depth of trees\n",
    "    'model__regressor__learning_rate': [0.01, 0.1, 0.2, 0.3, 0.5],  # Learning rate\n",
    "    'model__regressor__subsample': [0.7, 0.8, 0.9, 1.0],  # Fraction of samples used for training each tree\n",
    "    'model__regressor__colsample_bytree': [0.7, 0.8, 0.9, 1.0],  # Fraction of features used for building each tree\n",
    "    'model__regressor__gamma': [0, 0.1, 0.2, 0.3, 0.4],   # Regularization parameter\n",
    "    'model__regressor__min_child_weight': [1, 3, 5, 7],  # Minimum sum of instance weight (hessian) needed in a child\n",
    "}\n",
    "\n",
    "# Create the XGBoost model\n",
    "xgb = XGBRegressor(random_state=42)\n",
    "xgb_ttr = TransformedTargetRegressor(xgb, func=np.log, inverse_func=np.exp)\n",
    "model = Pipeline([\n",
    "    ('transform', transformer),\n",
    "    ('model', xgb_ttr)\n",
    "])\n",
    "\n",
    "# Create a RandomizedSearchCV object to search the hyperparameter space\n",
    "random_search = RandomizedSearchCV(\n",
    "    estimator=model,\n",
    "    param_distributions=param_space,\n",
    "    n_iter=150,  # Number of random combinations to try\n",
    "    scoring='neg_mean_absolute_percentage_error',  # Choose an appropriate scoring metric\n",
    "    cv=5,  # Number of cross-validation folds\n",
    "    n_jobs=-1,  # Use all available CPU cores\n",
    "    verbose=2  # Increase verbosity for output\n",
    ")\n",
    "\n",
    "# Fit the RandomizedSearchCV object to your data\n",
    "random_search.fit(X_train, y_train)  # Replace X_train and y_train with your data"
   ]
  },
  {
   "cell_type": "code",
   "execution_count": 32,
   "metadata": {},
   "outputs": [
    {
     "data": {
      "text/plain": [
       "{'model__regressor__subsample': 0.9,\n",
       " 'model__regressor__n_estimators': 200,\n",
       " 'model__regressor__min_child_weight': 3,\n",
       " 'model__regressor__max_depth': 6,\n",
       " 'model__regressor__learning_rate': 0.1,\n",
       " 'model__regressor__gamma': 0,\n",
       " 'model__regressor__colsample_bytree': 0.9}"
      ]
     },
     "execution_count": 32,
     "metadata": {},
     "output_type": "execute_result"
    }
   ],
   "source": [
    "# Check score with the best params\n",
    "random_search.best_params_"
   ]
  },
  {
   "cell_type": "markdown",
   "metadata": {},
   "source": [
    "#### Predict to Test Set with the Tuned Model\n",
    "\n",
    "Making predictions on the test set using the XGBoost model and the selected hyperparameters."
   ]
  },
  {
   "cell_type": "code",
   "execution_count": 33,
   "metadata": {},
   "outputs": [
    {
     "data": {
      "text/html": [
       "<div>\n",
       "<style scoped>\n",
       "    .dataframe tbody tr th:only-of-type {\n",
       "        vertical-align: middle;\n",
       "    }\n",
       "\n",
       "    .dataframe tbody tr th {\n",
       "        vertical-align: top;\n",
       "    }\n",
       "\n",
       "    .dataframe thead th {\n",
       "        text-align: right;\n",
       "    }\n",
       "</style>\n",
       "<table border=\"1\" class=\"dataframe\">\n",
       "  <thead>\n",
       "    <tr style=\"text-align: right;\">\n",
       "      <th></th>\n",
       "      <th>RMSLE</th>\n",
       "      <th>MAE</th>\n",
       "      <th>MAPE</th>\n",
       "    </tr>\n",
       "  </thead>\n",
       "  <tbody>\n",
       "    <tr>\n",
       "      <th>XGBoost + Transform Target Regressor after tuning</th>\n",
       "      <td>0.228576</td>\n",
       "      <td>15134.37624</td>\n",
       "      <td>0.171326</td>\n",
       "    </tr>\n",
       "  </tbody>\n",
       "</table>\n",
       "</div>"
      ],
      "text/plain": [
       "                                                      RMSLE          MAE  \\\n",
       "XGBoost + Transform Target Regressor after tuning  0.228576  15134.37624   \n",
       "\n",
       "                                                       MAPE  \n",
       "XGBoost + Transform Target Regressor after tuning  0.171326  "
      ]
     },
     "execution_count": 33,
     "metadata": {},
     "output_type": "execute_result"
    }
   ],
   "source": [
    "model = random_search.best_estimator_\n",
    "model.fit(X_train, y_train)\n",
    "y_pred = model.predict(X_test)\n",
    "score_rmsle = []\n",
    "score_mae = []\n",
    "score_mape = []\n",
    "score_rmsle.append(mean_squared_log_error(y_test, y_pred, squared=False))\n",
    "score_mae.append(mean_absolute_error(y_test, y_pred))\n",
    "score_mape.append(mean_absolute_percentage_error(y_test, y_pred))\n",
    "\n",
    "\n",
    "score_after_tuning = pd.DataFrame({'RMSLE': score_rmsle, \n",
    "                                    'MAE': score_mae, \n",
    "                                    'MAPE': score_mape}, \n",
    "                                    index=['XGBoost + Transform Target Regressor after tuning'])\n",
    "score_after_tuning"
   ]
  },
  {
   "cell_type": "markdown",
   "metadata": {},
   "source": [
    "#### **Performance Comparison**"
   ]
  },
  {
   "cell_type": "code",
   "execution_count": 34,
   "metadata": {},
   "outputs": [
    {
     "data": {
      "text/html": [
       "<div>\n",
       "<style scoped>\n",
       "    .dataframe tbody tr th:only-of-type {\n",
       "        vertical-align: middle;\n",
       "    }\n",
       "\n",
       "    .dataframe tbody tr th {\n",
       "        vertical-align: top;\n",
       "    }\n",
       "\n",
       "    .dataframe thead th {\n",
       "        text-align: right;\n",
       "    }\n",
       "</style>\n",
       "<table border=\"1\" class=\"dataframe\">\n",
       "  <thead>\n",
       "    <tr style=\"text-align: right;\">\n",
       "      <th></th>\n",
       "      <th>RMSLE</th>\n",
       "      <th>MAE</th>\n",
       "      <th>MAPE</th>\n",
       "    </tr>\n",
       "  </thead>\n",
       "  <tbody>\n",
       "    <tr>\n",
       "      <th>XGboost + Transform Target Regressor before tuning</th>\n",
       "      <td>0.242227</td>\n",
       "      <td>16202.243956</td>\n",
       "      <td>0.181066</td>\n",
       "    </tr>\n",
       "  </tbody>\n",
       "</table>\n",
       "</div>"
      ],
      "text/plain": [
       "                                                       RMSLE           MAE  \\\n",
       "XGboost + Transform Target Regressor before tuning  0.242227  16202.243956   \n",
       "\n",
       "                                                        MAPE  \n",
       "XGboost + Transform Target Regressor before tuning  0.181066  "
      ]
     },
     "execution_count": 34,
     "metadata": {},
     "output_type": "execute_result"
    }
   ],
   "source": [
    "score_before_tuning"
   ]
  },
  {
   "cell_type": "code",
   "execution_count": 35,
   "metadata": {},
   "outputs": [
    {
     "data": {
      "text/html": [
       "<div>\n",
       "<style scoped>\n",
       "    .dataframe tbody tr th:only-of-type {\n",
       "        vertical-align: middle;\n",
       "    }\n",
       "\n",
       "    .dataframe tbody tr th {\n",
       "        vertical-align: top;\n",
       "    }\n",
       "\n",
       "    .dataframe thead th {\n",
       "        text-align: right;\n",
       "    }\n",
       "</style>\n",
       "<table border=\"1\" class=\"dataframe\">\n",
       "  <thead>\n",
       "    <tr style=\"text-align: right;\">\n",
       "      <th></th>\n",
       "      <th>RMSLE</th>\n",
       "      <th>MAE</th>\n",
       "      <th>MAPE</th>\n",
       "    </tr>\n",
       "  </thead>\n",
       "  <tbody>\n",
       "    <tr>\n",
       "      <th>XGBoost + Transform Target Regressor after tuning</th>\n",
       "      <td>0.228576</td>\n",
       "      <td>15134.37624</td>\n",
       "      <td>0.171326</td>\n",
       "    </tr>\n",
       "  </tbody>\n",
       "</table>\n",
       "</div>"
      ],
      "text/plain": [
       "                                                      RMSLE          MAE  \\\n",
       "XGBoost + Transform Target Regressor after tuning  0.228576  15134.37624   \n",
       "\n",
       "                                                       MAPE  \n",
       "XGBoost + Transform Target Regressor after tuning  0.171326  "
      ]
     },
     "execution_count": 35,
     "metadata": {},
     "output_type": "execute_result"
    }
   ],
   "source": [
    "score_after_tuning"
   ]
  },
  {
   "cell_type": "markdown",
   "metadata": {},
   "source": [
    "#### **Predicted vs Actual**"
   ]
  },
  {
   "cell_type": "code",
   "execution_count": 36,
   "metadata": {},
   "outputs": [
    {
     "data": {
      "image/png": "[encoded data removed]",
      "text/plain": [
       "<Figure size 1500x1000 with 2 Axes>"
      ]
     },
     "metadata": {},
     "output_type": "display_data"
    }
   ],
   "source": [
    "import matplotlib.pyplot as plt\n",
    "\n",
    "fig, (ax1, ax2) = plt.subplots(2, 1, figsize=(15, 10))\n",
    "\n",
    "# Plot actual vs predicted price\n",
    "ax1.scatter(y_pred, y_test, alpha=0.3)\n",
    "ax1.plot(y_test, y_test, color='r', alpha=1)\n",
    "ax1.set_title('Predicted vs Actual Price', fontweight='bold')\n",
    "ax1.set_xlabel('Predicted Price')\n",
    "ax1.set_ylabel('Actual Price')\n",
    "\n",
    "# Plot residual plot\n",
    "diff = y_test - y_pred\n",
    "ax2.scatter(y_pred, diff)\n",
    "ax2.axhline(y=0, color='r', linestyle='--')\n",
    "ax2.set_xlabel('Predicted Values')\n",
    "ax2.set_ylabel('Residuals')\n",
    "ax2.set_title('Residual Plot', fontweight='bold')\n",
    "\n",
    "plt.subplots_adjust(hspace=0.3)"
   ]
  },
  {
   "cell_type": "markdown",
   "metadata": {},
   "source": [
    "When looking at the actual vs. predict plot, it is evident that the actual prices and predicted prices are close to the linear line within the price range below 200,000 SAR. The residual plot further substantiates that our predictions for actual prices are closely aligned with the residuals within the range below 200,000 SAR. These residuals represent the difference between the actual values and the model's predictions, where these points indicate how far the model's predictions are from the actual values. Both plots demonstrate that our predictive model performs well, particularly within the range below 200,000 SAR. However, for values above 200,000 SAR, and especially above 350,000 SAR, the predictive model encounters difficulties in making accurate price predictions."
   ]
  },
  {
   "cell_type": "markdown",
   "metadata": {},
   "source": [
    "### Why does this happen? Let's check this from feature importances to binning"
   ]
  },
  {
   "cell_type": "markdown",
   "metadata": {},
   "source": [
    "#### **Feature Importances**"
   ]
  },
  {
   "cell_type": "markdown",
   "metadata": {},
   "source": [
    "To be able to determine which features actually have a significant influence on the target (price), we can check it through the 'feature_importances_' function."
   ]
  },
  {
   "cell_type": "code",
   "execution_count": 37,
   "metadata": {},
   "outputs": [
    {
     "data": {
      "image/png": "[encoded data removed]",
      "text/plain": [
       "<Figure size 640x480 with 1 Axes>"
      ]
     },
     "metadata": {},
     "output_type": "display_data"
    }
   ],
   "source": [
    "feature_imp = pd.Series(model.named_steps['model'].regressor_.feature_importances_,model.named_steps['transform'].get_feature_names_out()).sort_values(ascending = False).head()\n",
    "feature_imp.plot(kind='barh', title='Feature Importances');"
   ]
  },
  {
   "cell_type": "markdown",
   "metadata": {},
   "source": [
    "A high feature importance level for \"onehot_Features_Standard\" in the XGBoost model indicates that this feature has the strongest influence on the model's predictions. In other words, changes in \"onehot_features_standard\" will have a greater impact on the prediction outcomes compared to other features in the dataset. This helps you understand the key factors affecting the model's predictions and can be used for further model optimization."
   ]
  },
  {
   "cell_type": "markdown",
   "metadata": {},
   "source": [
    "#### **BINNING**"
   ]
  },
  {
   "cell_type": "markdown",
   "metadata": {},
   "source": [
    "Binning is a data analysis technique of grouping data values into smaller categories or \"bins,\" used to simplify complexity, address outliers, or enhance the performance of data analysis models."
   ]
  },
  {
   "cell_type": "code",
   "execution_count": 38,
   "metadata": {},
   "outputs": [
    {
     "data": {
      "text/plain": [
       "count    824.000000   \n",
       "mean     87119.291262 \n",
       "std      66798.877980 \n",
       "min      25500.000000 \n",
       "25%      44750.000000 \n",
       "50%      65000.000000 \n",
       "75%      109000.000000\n",
       "max      575000.000000\n",
       "Name: Price, dtype: float64"
      ]
     },
     "execution_count": 38,
     "metadata": {},
     "output_type": "execute_result"
    }
   ],
   "source": [
    "y_test.describe()"
   ]
  },
  {
   "cell_type": "markdown",
   "metadata": {},
   "source": [
    "If we backtrack to the train-test split section, the actual y has a maximum value reaching 850,000, but after creating y_test, the maximum value taken is only up to 575,000, and I say this will affect the model's prediction accuracy."
   ]
  },
  {
   "cell_type": "markdown",
   "metadata": {},
   "source": [
    "Here, we are grouping prices into 5 categories"
   ]
  },
  {
   "cell_type": "code",
   "execution_count": 39,
   "metadata": {},
   "outputs": [
    {
     "data": {
      "text/html": [
       "<div>\n",
       "<style scoped>\n",
       "    .dataframe tbody tr th:only-of-type {\n",
       "        vertical-align: middle;\n",
       "    }\n",
       "\n",
       "    .dataframe tbody tr th {\n",
       "        vertical-align: top;\n",
       "    }\n",
       "\n",
       "    .dataframe thead th {\n",
       "        text-align: right;\n",
       "    }\n",
       "</style>\n",
       "<table border=\"1\" class=\"dataframe\">\n",
       "  <thead>\n",
       "    <tr style=\"text-align: right;\">\n",
       "      <th></th>\n",
       "      <th>true</th>\n",
       "      <th>pred</th>\n",
       "      <th>bins</th>\n",
       "    </tr>\n",
       "  </thead>\n",
       "  <tbody>\n",
       "    <tr>\n",
       "      <th>5404</th>\n",
       "      <td>70000</td>\n",
       "      <td>65775.695312</td>\n",
       "      <td>57K-110K</td>\n",
       "    </tr>\n",
       "    <tr>\n",
       "      <th>5400</th>\n",
       "      <td>166500</td>\n",
       "      <td>146363.625000</td>\n",
       "      <td>110K-850K</td>\n",
       "    </tr>\n",
       "    <tr>\n",
       "      <th>5306</th>\n",
       "      <td>40000</td>\n",
       "      <td>57092.871094</td>\n",
       "      <td>25K-57K</td>\n",
       "    </tr>\n",
       "    <tr>\n",
       "      <th>3335</th>\n",
       "      <td>275000</td>\n",
       "      <td>248270.375000</td>\n",
       "      <td>110K-850K</td>\n",
       "    </tr>\n",
       "    <tr>\n",
       "      <th>4101</th>\n",
       "      <td>60000</td>\n",
       "      <td>55272.328125</td>\n",
       "      <td>57K-110K</td>\n",
       "    </tr>\n",
       "  </tbody>\n",
       "</table>\n",
       "</div>"
      ],
      "text/plain": [
       "        true           pred       bins\n",
       "5404  70000   65775.695312   57K-110K \n",
       "5400  166500  146363.625000  110K-850K\n",
       "5306  40000   57092.871094   25K-57K  \n",
       "3335  275000  248270.375000  110K-850K\n",
       "4101  60000   55272.328125   57K-110K "
      ]
     },
     "execution_count": 39,
     "metadata": {},
     "output_type": "execute_result"
    }
   ],
   "source": [
    "data = pd.DataFrame(y_test).rename(columns={'Price':'true'})\n",
    "data['pred'] = y_pred\n",
    "data['bins'] = pd.cut(x=data['true'], \n",
    "                      bins=[25500, 57500, 110000, 850000],\n",
    "                      labels=['25K-57K', '57K-110K', '110K-850K'])\n",
    "data.head()"
   ]
  },
  {
   "cell_type": "code",
   "execution_count": 40,
   "metadata": {},
   "outputs": [
    {
     "data": {
      "text/html": [
       "<div>\n",
       "<style scoped>\n",
       "    .dataframe tbody tr th:only-of-type {\n",
       "        vertical-align: middle;\n",
       "    }\n",
       "\n",
       "    .dataframe tbody tr th {\n",
       "        vertical-align: top;\n",
       "    }\n",
       "\n",
       "    .dataframe thead th {\n",
       "        text-align: right;\n",
       "    }\n",
       "</style>\n",
       "<table border=\"1\" class=\"dataframe\">\n",
       "  <thead>\n",
       "    <tr style=\"text-align: right;\">\n",
       "      <th></th>\n",
       "      <th>true</th>\n",
       "      <th>pred</th>\n",
       "      <th>bins</th>\n",
       "      <th>mape</th>\n",
       "    </tr>\n",
       "  </thead>\n",
       "  <tbody>\n",
       "    <tr>\n",
       "      <th>5404</th>\n",
       "      <td>70000</td>\n",
       "      <td>65775.695312</td>\n",
       "      <td>57K-110K</td>\n",
       "      <td>0.060347</td>\n",
       "    </tr>\n",
       "    <tr>\n",
       "      <th>5400</th>\n",
       "      <td>166500</td>\n",
       "      <td>146363.625000</td>\n",
       "      <td>110K-850K</td>\n",
       "      <td>0.120939</td>\n",
       "    </tr>\n",
       "    <tr>\n",
       "      <th>5306</th>\n",
       "      <td>40000</td>\n",
       "      <td>57092.871094</td>\n",
       "      <td>25K-57K</td>\n",
       "      <td>0.427322</td>\n",
       "    </tr>\n",
       "    <tr>\n",
       "      <th>3335</th>\n",
       "      <td>275000</td>\n",
       "      <td>248270.375000</td>\n",
       "      <td>110K-850K</td>\n",
       "      <td>0.097199</td>\n",
       "    </tr>\n",
       "    <tr>\n",
       "      <th>4101</th>\n",
       "      <td>60000</td>\n",
       "      <td>55272.328125</td>\n",
       "      <td>57K-110K</td>\n",
       "      <td>0.078795</td>\n",
       "    </tr>\n",
       "  </tbody>\n",
       "</table>\n",
       "</div>"
      ],
      "text/plain": [
       "        true           pred       bins      mape\n",
       "5404  70000   65775.695312   57K-110K   0.060347\n",
       "5400  166500  146363.625000  110K-850K  0.120939\n",
       "5306  40000   57092.871094   25K-57K    0.427322\n",
       "3335  275000  248270.375000  110K-850K  0.097199\n",
       "4101  60000   55272.328125   57K-110K   0.078795"
      ]
     },
     "execution_count": 40,
     "metadata": {},
     "output_type": "execute_result"
    }
   ],
   "source": [
    "from sklearn.metrics import mean_absolute_percentage_error\n",
    "\n",
    "def mape(data):\n",
    "    return mean_absolute_percentage_error([data['true']], [data['pred']])\n",
    "\n",
    "data['mape'] = data[['true','pred']].apply(mape, axis=1)\n",
    "data.head()"
   ]
  },
  {
   "cell_type": "code",
   "execution_count": 41,
   "metadata": {},
   "outputs": [
    {
     "data": {
      "text/html": [
       "<div>\n",
       "<style scoped>\n",
       "    .dataframe tbody tr th:only-of-type {\n",
       "        vertical-align: middle;\n",
       "    }\n",
       "\n",
       "    .dataframe tbody tr th {\n",
       "        vertical-align: top;\n",
       "    }\n",
       "\n",
       "    .dataframe thead th {\n",
       "        text-align: right;\n",
       "    }\n",
       "</style>\n",
       "<table border=\"1\" class=\"dataframe\">\n",
       "  <thead>\n",
       "    <tr style=\"text-align: right;\">\n",
       "      <th></th>\n",
       "      <th>mape</th>\n",
       "    </tr>\n",
       "    <tr>\n",
       "      <th>bins</th>\n",
       "      <th></th>\n",
       "    </tr>\n",
       "  </thead>\n",
       "  <tbody>\n",
       "    <tr>\n",
       "      <th>25K-57K</th>\n",
       "      <td>0.188411</td>\n",
       "    </tr>\n",
       "    <tr>\n",
       "      <th>57K-110K</th>\n",
       "      <td>0.149033</td>\n",
       "    </tr>\n",
       "    <tr>\n",
       "      <th>110K-850K</th>\n",
       "      <td>0.176502</td>\n",
       "    </tr>\n",
       "  </tbody>\n",
       "</table>\n",
       "</div>"
      ],
      "text/plain": [
       "               mape\n",
       "bins               \n",
       "25K-57K    0.188411\n",
       "57K-110K   0.149033\n",
       "110K-850K  0.176502"
      ]
     },
     "execution_count": 41,
     "metadata": {},
     "output_type": "execute_result"
    }
   ],
   "source": [
    "data.groupby('bins')[['mape']].mean()"
   ]
  },
  {
   "cell_type": "code",
   "execution_count": 42,
   "metadata": {},
   "outputs": [
    {
     "data": {
      "image/png": "[encoded data removed]",
      "text/plain": [
       "<Figure size 1500x1000 with 2 Axes>"
      ]
     },
     "metadata": {},
     "output_type": "display_data"
    }
   ],
   "source": [
    "fig, (ax1, ax2) = plt.subplots(2, 1, figsize=(15, 10))\n",
    "\n",
    "sns.countplot(data=data, x='bins', color='lightblue', ax=ax1)\n",
    "ax1.set_ylabel('count of data')\n",
    "\n",
    "data_by = data.groupby('bins')[['mape']].mean()\n",
    "cols = ['palegreen' if x < 0.25 else '#708090' for x in data_by['mape']]\n",
    "sns.barplot(data=data, x='bins', y='mape', \n",
    "            palette=cols, ax=ax2, \n",
    "            estimator='mean',\n",
    "            errorbar=None)\n",
    "ax2.axhline(y=0.178, color='red', ls='--');\n",
    "ax2.set_ylabel('% MAPE');"
   ]
  },
  {
   "cell_type": "markdown",
   "metadata": {},
   "source": [
    "After performing binning, it turned out that the model has the highest error percentage for the price range between 57,000 and 110,000 compared to other ranges. Initially, I would have assumed that the model would have difficulty predicting prices above 500,000, given that the 'y_test' for the maximum value generated is 575,000, which is significantly different from the actual 'y' or actual value. When looking at the scatter plot for predicted vs. actual values, there indeed appears to be a clustering of data points, indicating the possibility of a significant deviation from the linear line between predicted and actual values."
   ]
  },
  {
   "cell_type": "markdown",
   "metadata": {},
   "source": [
    "### **Conclusion**\n",
    "\n",
    "The evaluation metrics used for the model are RMSE, MAE, and MAPE. Judging from the MAPE value generated by the model after hyperparameter tuning, which is approximately 16%, we can conclude that if this model is used to estimate the listing prices for used cars on Syarah.com within the trained value range, the price estimates on average will deviate by approximately 16% from the actual prices.\n",
    "\n",
    "However, it is also possible for the predictions to deviate further, as the model's bias remains relatively high when considering the visualization of actual and predicted prices, especially for prices above 200,000 SAR and within the range of 25,000 to 57,000 SAR. The bias introduced by the model is primarily due to the limited dataset availability for used cars within the price range of 25,000 to 57,000 and above 200,000 SAR."
   ]
  },
  {
   "cell_type": "markdown",
   "metadata": {},
   "source": [
    "### **Recommendations**\n",
    "\n",
    "1. This model can certainly be further improved to yield even better predictions. We can augment the dataset with used cars priced above 25,000-57,000 and above 200,000 SAR.\n",
    "\n",
    "2. This model can be utilized for estimating the buying and selling prices of used cars, assisting sellers in determining the prices for their vehicles, and enabling buyers to adjust their budget plans for purchasing cars. \n",
    "\n",
    "3. This model will enhance transparency regarding car specifications that align with their respective prices, alleviating concerns for both sellers and buyers. Additionally, it can boost the turnover of Syarah.com as a platform for buying and selling used cars."
   ]
  },
  {
   "cell_type": "markdown",
   "metadata": {},
   "source": [
    "#### **Save Model**"
   ]
  },
  {
   "cell_type": "code",
   "execution_count": 45,
   "metadata": {},
   "outputs": [],
   "source": [
    "# Save model\n",
    "import pickle\n",
    "\n",
    "estimator = Pipeline([('preprocess', transformer), ('model', XGBRegressor())])\n",
    "estimator.fit(X_train, y_train)\n",
    "\n",
    "pickle.dump(estimator, open('Model_Saudi_Arabia_XGB.sav', 'wb'))"
   ]
  },
  {
   "cell_type": "code",
   "execution_count": 46,
   "metadata": {},
   "outputs": [],
   "source": [
    "# Load model\n",
    "filename = 'Model_Saudi_Arabia_XGB.sav'\n",
    "loaded_model = pickle.load(open(filename, 'rb'))"
   ]
  },
  {
   "cell_type": "code",
   "execution_count": 47,
   "metadata": {},
   "outputs": [
    {
     "data": {
      "text/plain": [
       "30549.93939872988"
      ]
     },
     "execution_count": 47,
     "metadata": {},
     "output_type": "execute_result"
    }
   ],
   "source": [
    "np.sqrt(mean_squared_error(y_test, loaded_model.predict(X_test)))"
   ]
  }
 ],
 "metadata": {
  "kernelspec": {
   "display_name": "Python 3",
   "language": "python",
   "name": "python3"
  },
  "language_info": {
   "codemirror_mode": {
    "name": "ipython",
    "version": 3
   },
   "file_extension": ".py",
   "mimetype": "text/x-python",
   "name": "python",
   "nbconvert_exporter": "python",
   "pygments_lexer": "ipython3",
   "version": "3.11.4"
  },
  "orig_nbformat": 4
 },
 "nbformat": 4,
 "nbformat_minor": 2
}
